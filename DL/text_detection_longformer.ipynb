{
 "cells": [
  {
   "cell_type": "code",
   "execution_count": 1,
   "id": "98532462",
   "metadata": {},
   "outputs": [
    {
     "name": "stderr",
     "output_type": "stream",
     "text": [
      "Found cached dataset deepfake_text_detect (C:/Users/Rahulram/.cache/huggingface/datasets/yaful___deepfake_text_detect/default/1.0.0/ea38a19203d63b7e8774306c902cc3732161c32360f898bc8a14e09efeeb802b)\n"
     ]
    },
    {
     "data": {
      "application/vnd.jupyter.widget-view+json": {
       "model_id": "c0625bbca6b04d1dabbf7f18b9f0e05e",
       "version_major": 2,
       "version_minor": 0
      },
      "text/plain": [
       "  0%|          | 0/5 [00:00<?, ?it/s]"
      ]
     },
     "metadata": {},
     "output_type": "display_data"
    }
   ],
   "source": [
    "from datasets import load_dataset\n",
    "dataset = load_dataset(\"yaful/DeepfakeTextDetect\")"
   ]
  },
  {
   "cell_type": "code",
   "execution_count": 2,
   "id": "dded42aa",
   "metadata": {},
   "outputs": [],
   "source": [
    "import numpy as np\n",
    "import pandas as pd"
   ]
  },
  {
   "cell_type": "code",
   "execution_count": 3,
   "id": "05e648f5",
   "metadata": {},
   "outputs": [],
   "source": [
    "df = pd.DataFrame(dataset[\"test_ood_gpt\"])"
   ]
  },
  {
   "cell_type": "code",
   "execution_count": 4,
   "id": "9cc823f7",
   "metadata": {},
   "outputs": [
    {
     "data": {
      "text/html": [
       "<div>\n",
       "<style scoped>\n",
       "    .dataframe tbody tr th:only-of-type {\n",
       "        vertical-align: middle;\n",
       "    }\n",
       "\n",
       "    .dataframe tbody tr th {\n",
       "        vertical-align: top;\n",
       "    }\n",
       "\n",
       "    .dataframe thead th {\n",
       "        text-align: right;\n",
       "    }\n",
       "</style>\n",
       "<table border=\"1\" class=\"dataframe\">\n",
       "  <thead>\n",
       "    <tr style=\"text-align: right;\">\n",
       "      <th></th>\n",
       "      <th>text</th>\n",
       "      <th>label</th>\n",
       "      <th>src</th>\n",
       "    </tr>\n",
       "  </thead>\n",
       "  <tbody>\n",
       "    <tr>\n",
       "      <th>334</th>\n",
       "      <td>Japanese Fish Found in Tsunami Debris Highligh...</td>\n",
       "      <td>0</td>\n",
       "      <td>cnn_gpt4</td>\n",
       "    </tr>\n",
       "    <tr>\n",
       "      <th>678</th>\n",
       "      <td>Person1: Well, the facilities are impressive a...</td>\n",
       "      <td>0</td>\n",
       "      <td>dialogsum_gpt4</td>\n",
       "    </tr>\n",
       "    <tr>\n",
       "      <th>1435</th>\n",
       "      <td>Pharmacotherapy for Fibromyalgia: An Update Fi...</td>\n",
       "      <td>0</td>\n",
       "      <td>pubmed_gpt4</td>\n",
       "    </tr>\n",
       "    <tr>\n",
       "      <th>218</th>\n",
       "      <td>Bucks Resident Builds Remarkable Observatory i...</td>\n",
       "      <td>0</td>\n",
       "      <td>cnn_gpt4</td>\n",
       "    </tr>\n",
       "    <tr>\n",
       "      <th>1554</th>\n",
       "      <td>Oral contraceptives can potentially impact the...</td>\n",
       "      <td>0</td>\n",
       "      <td>pubmed_gpt4</td>\n",
       "    </tr>\n",
       "    <tr>\n",
       "      <th>...</th>\n",
       "      <td>...</td>\n",
       "      <td>...</td>\n",
       "      <td>...</td>\n",
       "    </tr>\n",
       "    <tr>\n",
       "      <th>131</th>\n",
       "      <td>Adi Viveash's Chelsea U19s side stormed into t...</td>\n",
       "      <td>1</td>\n",
       "      <td>cnn_human</td>\n",
       "    </tr>\n",
       "    <tr>\n",
       "      <th>405</th>\n",
       "      <td>Person1: Where are you going, Jane? Person2: I...</td>\n",
       "      <td>1</td>\n",
       "      <td>dialogsum_human</td>\n",
       "    </tr>\n",
       "    <tr>\n",
       "      <th>948</th>\n",
       "      <td>Fires on the plain directed by Kon Ichikawa an...</td>\n",
       "      <td>1</td>\n",
       "      <td>imdb_human</td>\n",
       "    </tr>\n",
       "    <tr>\n",
       "      <th>876</th>\n",
       "      <td>Leaving aside the drawbacks and deficiencies o...</td>\n",
       "      <td>1</td>\n",
       "      <td>imdb_human</td>\n",
       "    </tr>\n",
       "    <tr>\n",
       "      <th>95</th>\n",
       "      <td>Listeners say the last minutes of numerous sho...</td>\n",
       "      <td>1</td>\n",
       "      <td>cnn_human</td>\n",
       "    </tr>\n",
       "  </tbody>\n",
       "</table>\n",
       "<p>100 rows × 3 columns</p>\n",
       "</div>"
      ],
      "text/plain": [
       "                                                   text  label  \\\n",
       "334   Japanese Fish Found in Tsunami Debris Highligh...      0   \n",
       "678   Person1: Well, the facilities are impressive a...      0   \n",
       "1435  Pharmacotherapy for Fibromyalgia: An Update Fi...      0   \n",
       "218   Bucks Resident Builds Remarkable Observatory i...      0   \n",
       "1554  Oral contraceptives can potentially impact the...      0   \n",
       "...                                                 ...    ...   \n",
       "131   Adi Viveash's Chelsea U19s side stormed into t...      1   \n",
       "405   Person1: Where are you going, Jane? Person2: I...      1   \n",
       "948   Fires on the plain directed by Kon Ichikawa an...      1   \n",
       "876   Leaving aside the drawbacks and deficiencies o...      1   \n",
       "95    Listeners say the last minutes of numerous sho...      1   \n",
       "\n",
       "                  src  \n",
       "334          cnn_gpt4  \n",
       "678    dialogsum_gpt4  \n",
       "1435      pubmed_gpt4  \n",
       "218          cnn_gpt4  \n",
       "1554      pubmed_gpt4  \n",
       "...               ...  \n",
       "131         cnn_human  \n",
       "405   dialogsum_human  \n",
       "948        imdb_human  \n",
       "876        imdb_human  \n",
       "95          cnn_human  \n",
       "\n",
       "[100 rows x 3 columns]"
      ]
     },
     "execution_count": 4,
     "metadata": {},
     "output_type": "execute_result"
    }
   ],
   "source": [
    "llm = df[df[\"label\"] == 0].sample(n=50, random_state=69)\n",
    "human = df[df[\"label\"] == 1].sample(n=50, random_state=69)\n",
    "new_df = pd.concat([llm, human])\n",
    "\n",
    "new_df"
   ]
  },
  {
   "cell_type": "code",
   "execution_count": 5,
   "id": "95aa7940",
   "metadata": {},
   "outputs": [],
   "source": [
    "new_df.to_csv(\"Sample.csv\")"
   ]
  },
  {
   "cell_type": "markdown",
   "id": "3826f7b8",
   "metadata": {},
   "source": [
    "### Base Arch"
   ]
  },
  {
   "cell_type": "code",
   "execution_count": 6,
   "id": "bfedb6ce",
   "metadata": {},
   "outputs": [],
   "source": [
    "import torch\n",
    "import os\n",
    "from transformers import AutoModelForSequenceClassification, AutoTokenizer\n",
    "\n",
    "# init\n",
    "device = 'cpu' # use 'cuda:0' if GPU is available\n",
    "model_dir = \"nealcly/detection-longformer\"\n",
    "tokenizer = AutoTokenizer.from_pretrained(model_dir)\n",
    "model = AutoModelForSequenceClassification.from_pretrained(model_dir).to(device)"
   ]
  },
  {
   "cell_type": "code",
   "execution_count": 7,
   "id": "9a20b38d",
   "metadata": {},
   "outputs": [],
   "source": [
    "output = []\n",
    "\n",
    "for text in new_df.iloc[:, 0]:\n",
    "    inputs = tokenizer(text, return_tensors=\"pt\")\n",
    "    logits = model(**inputs).logits\n",
    "    predicted_class_id = int(torch.argmax(logits, axis=-1)[0])\n",
    "    output.append(predicted_class_id)"
   ]
  },
  {
   "cell_type": "code",
   "execution_count": 8,
   "id": "2413a62b",
   "metadata": {
    "scrolled": true
   },
   "outputs": [
    {
     "data": {
      "text/plain": [
       "[0,\n",
       " 1,\n",
       " 0,\n",
       " 0,\n",
       " 0,\n",
       " 0,\n",
       " 0,\n",
       " 0,\n",
       " 0,\n",
       " 0,\n",
       " 0,\n",
       " 0,\n",
       " 0,\n",
       " 0,\n",
       " 0,\n",
       " 0,\n",
       " 0,\n",
       " 0,\n",
       " 0,\n",
       " 0,\n",
       " 0,\n",
       " 0,\n",
       " 0,\n",
       " 0,\n",
       " 0,\n",
       " 0,\n",
       " 0,\n",
       " 0,\n",
       " 0,\n",
       " 0,\n",
       " 0,\n",
       " 0,\n",
       " 0,\n",
       " 0,\n",
       " 0,\n",
       " 0,\n",
       " 0,\n",
       " 0,\n",
       " 0,\n",
       " 0,\n",
       " 0,\n",
       " 0,\n",
       " 0,\n",
       " 0,\n",
       " 0,\n",
       " 0,\n",
       " 0,\n",
       " 0,\n",
       " 0,\n",
       " 0,\n",
       " 0,\n",
       " 0,\n",
       " 0,\n",
       " 0,\n",
       " 1,\n",
       " 0,\n",
       " 1,\n",
       " 1,\n",
       " 1,\n",
       " 0,\n",
       " 1,\n",
       " 0,\n",
       " 1,\n",
       " 1,\n",
       " 0,\n",
       " 0,\n",
       " 1,\n",
       " 1,\n",
       " 0,\n",
       " 0,\n",
       " 1,\n",
       " 1,\n",
       " 1,\n",
       " 0,\n",
       " 1,\n",
       " 0,\n",
       " 1,\n",
       " 1,\n",
       " 0,\n",
       " 0,\n",
       " 1,\n",
       " 1,\n",
       " 1,\n",
       " 0,\n",
       " 1,\n",
       " 0,\n",
       " 1,\n",
       " 1,\n",
       " 1,\n",
       " 1,\n",
       " 0,\n",
       " 1,\n",
       " 0,\n",
       " 0,\n",
       " 1,\n",
       " 0,\n",
       " 0,\n",
       " 1,\n",
       " 1,\n",
       " 1]"
      ]
     },
     "execution_count": 8,
     "metadata": {},
     "output_type": "execute_result"
    }
   ],
   "source": [
    "output"
   ]
  },
  {
   "cell_type": "code",
   "execution_count": 9,
   "id": "22618c24",
   "metadata": {},
   "outputs": [],
   "source": [
    "new_df[\"base\"] = output\n",
    "new_df.to_csv(\"Base.csv\")"
   ]
  }
 ],
 "metadata": {
  "kernelspec": {
   "display_name": "Python 3 (ipykernel)",
   "language": "python",
   "name": "python3"
  },
  "language_info": {
   "codemirror_mode": {
    "name": "ipython",
    "version": 3
   },
   "file_extension": ".py",
   "mimetype": "text/x-python",
   "name": "python",
   "nbconvert_exporter": "python",
   "pygments_lexer": "ipython3",
   "version": "3.11.1"
  }
 },
 "nbformat": 4,
 "nbformat_minor": 5
}
