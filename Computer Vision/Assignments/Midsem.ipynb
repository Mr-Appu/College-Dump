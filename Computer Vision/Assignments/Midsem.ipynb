{
 "cells": [
  {
   "cell_type": "code",
   "execution_count": 1,
   "id": "3fcec3fe",
   "metadata": {},
   "outputs": [],
   "source": [
    "import cv2\n",
    "import numpy as np\n",
    "import matplotlib.pyplot as plt"
   ]
  },
  {
   "cell_type": "markdown",
   "id": "5beef48d",
   "metadata": {},
   "source": [
    "### Question 2\n",
    "\n",
    "#### Consider the sequences, x(n) = {1, 2, 3, 5} and h(n) = {0.5, 0.5}"
   ]
  },
  {
   "cell_type": "code",
   "execution_count": 2,
   "id": "16f79052",
   "metadata": {},
   "outputs": [],
   "source": [
    "# Convolution\n",
    "def convolution(x, h):\n",
    "    h = h[::-1]\n",
    "    x = [0]*(len(h)-1) + x + [0]*(len(h)-1)\n",
    "    \n",
    "    output = []\n",
    "    for i in range(len(x) - len(h) + 1):\n",
    "        output.append(np.array(h)@np.array(x[i:i+len(h)]).T)\n",
    "        \n",
    "    return output\n",
    "\n",
    "# Correlation\n",
    "def correlation(x, h):\n",
    "    x = [0]*(len(h)-1) + x + [0]*(len(h)-1)\n",
    "    \n",
    "    output = []\n",
    "    for i in range(len(x) - len(h) + 1):\n",
    "        output.append(np.array(h)@np.array(x[i:i+len(h)]).T)\n",
    "        \n",
    "    return output"
   ]
  },
  {
   "cell_type": "markdown",
   "id": "76145290",
   "metadata": {},
   "source": [
    "#### Find the correlation and convolution between the sequences x(n) and h(n)."
   ]
  },
  {
   "cell_type": "code",
   "execution_count": 3,
   "id": "56f13175",
   "metadata": {},
   "outputs": [
    {
     "name": "stdout",
     "output_type": "stream",
     "text": [
      "Correlation :  [0.5, 1.5, 2.5, 4.0, 2.5]\n",
      "Convolution :  [0.5, 1.5, 2.5, 4.0, 2.5]\n"
     ]
    }
   ],
   "source": [
    "x = [1, 2, 3, 5]\n",
    "h = [0.5, 0.5]\n",
    "\n",
    "print(\"Correlation : \", correlation(x, h))\n",
    "print(\"Convolution : \", convolution(x, h))"
   ]
  },
  {
   "cell_type": "markdown",
   "id": "e6323ed6",
   "metadata": {},
   "source": [
    "#### For the above problem, let y(n) = x(n) * h(n). Find $\\sum_{-\\infty}^{\\infty} y(n)$ where h(n) = {0.5, -0.5}"
   ]
  },
  {
   "cell_type": "code",
   "execution_count": 4,
   "id": "11820e44",
   "metadata": {},
   "outputs": [
    {
     "name": "stdout",
     "output_type": "stream",
     "text": [
      "Sum :  0.0\n"
     ]
    }
   ],
   "source": [
    "x = [1, 2, 3, 5]\n",
    "h = [0.5, -0.5]\n",
    "\n",
    "print(\"Sum : \", sum(convolution(x, h)))"
   ]
  },
  {
   "cell_type": "markdown",
   "id": "89692384",
   "metadata": {},
   "source": [
    "### Question 3"
   ]
  },
  {
   "cell_type": "code",
   "execution_count": 5,
   "id": "cc51019f",
   "metadata": {},
   "outputs": [],
   "source": [
    "def convolve2d(image, kernel):\n",
    "    \n",
    "    kernel_size = kernel.shape[0]\n",
    "    image_size  = image.shape[0]\n",
    "    \n",
    "    padding = int((kernel_size - 1))\n",
    "    image = np.pad(image, padding, mode=\"constant\")\n",
    "\n",
    "    output_shape = (image_size + 2*padding - kernel_size) + 1    \n",
    "    output = np.zeros((output_shape, output_shape))\n",
    "    \n",
    "    for x in range(output_shape):\n",
    "        for y in range(output_shape):\n",
    "            mat = image[x:x+kernel_size, y:y+kernel_size]\n",
    "            output[x, y] = np.sum(mat*kernel)\n",
    "            \n",
    "    return output"
   ]
  },
  {
   "cell_type": "markdown",
   "id": "f1150709",
   "metadata": {},
   "source": [
    "#### Kernel whose coefficients sum to 1"
   ]
  },
  {
   "cell_type": "code",
   "execution_count": 6,
   "id": "6c6b1662",
   "metadata": {},
   "outputs": [
    {
     "name": "stdout",
     "output_type": "stream",
     "text": [
      "Image Sum :  63\n",
      "Convolved Image Sum :  63.0\n"
     ]
    }
   ],
   "source": [
    "image = np.array([[2, 5, 4, 3, 7], [0, 7, 2, 1, 1], [3, 0, 0, 1, 1], [2, 3, 2, 4, 6], [1, 2, 2, 4, 0]])\n",
    "box_filter = (1/9)*np.array(([[1, 1, 1], [1, 1, 1], [1, 1, 1]]))\n",
    "\n",
    "convolved_image = convolve2d(image, box_filter)\n",
    "\n",
    "print(\"Image Sum : \", np.sum(image))\n",
    "print(\"Convolved Image Sum : \", np.sum(convolved_image))"
   ]
  },
  {
   "cell_type": "markdown",
   "id": "cca46357",
   "metadata": {},
   "source": [
    "#### Kernel whose coefficients sum to 0"
   ]
  },
  {
   "cell_type": "code",
   "execution_count": 7,
   "id": "215b6a96",
   "metadata": {},
   "outputs": [
    {
     "name": "stdout",
     "output_type": "stream",
     "text": [
      "Image Sum :  63\n",
      "Convolved Image Sum :  0.0\n"
     ]
    }
   ],
   "source": [
    "image = np.array([[2, 5, 4, 3, 7], [0, 7, 2, 1, 1], [3, 0, 0, 1, 1], [2, 3, 2, 4, 6], [1, 2, 2, 4, 0]])\n",
    "sharp_filter = np.array(([[-1, 0, 1], [-1, 0, 1], [-1, 0, 1]]))\n",
    "\n",
    "convolved_image = convolve2d(image, sharp_filter)\n",
    "\n",
    "print(\"Image Sum : \", np.sum(image))\n",
    "print(\"Convolved Image Sum : \", np.sum(convolved_image))"
   ]
  },
  {
   "cell_type": "markdown",
   "id": "f79cac7a",
   "metadata": {},
   "source": [
    "### Question 4"
   ]
  },
  {
   "cell_type": "markdown",
   "id": "90628a7d",
   "metadata": {},
   "source": [
    "#### Box Filter"
   ]
  },
  {
   "cell_type": "code",
   "execution_count": 8,
   "id": "f9620770",
   "metadata": {},
   "outputs": [
    {
     "data": {
      "text/plain": [
       "array([[0.22222222, 0.77777778, 1.22222222, 1.33333333, 1.55555556,\n",
       "        1.11111111, 0.77777778],\n",
       "       [0.22222222, 1.55555556, 2.22222222, 2.44444444, 2.        ,\n",
       "        1.33333333, 0.88888889],\n",
       "       [0.55555556, 1.88888889, 2.55555556, 2.55555556, 2.22222222,\n",
       "        1.55555556, 1.        ],\n",
       "       [0.55555556, 1.66666667, 2.11111111, 2.22222222, 2.        ,\n",
       "        1.55555556, 0.88888889],\n",
       "       [0.66666667, 1.22222222, 1.66666667, 2.        , 2.22222222,\n",
       "        1.77777778, 0.77777778],\n",
       "       [0.33333333, 0.88888889, 1.33333333, 1.88888889, 2.        ,\n",
       "        1.55555556, 0.66666667],\n",
       "       [0.11111111, 0.33333333, 0.55555556, 0.88888889, 0.66666667,\n",
       "        0.44444444, 0.        ]])"
      ]
     },
     "execution_count": 8,
     "metadata": {},
     "output_type": "execute_result"
    }
   ],
   "source": [
    "image = np.array([[2, 5, 4, 3, 7], [0, 7, 2, 1, 1], [3, 0, 0, 1, 1], [2, 3, 2, 4, 6], [1, 2, 2, 4, 0]])\n",
    "box_filter = (1/9)*np.array(([[1, 1, 1], [1, 1, 1], [1, 1, 1]]))\n",
    "\n",
    "convolved_image = convolve2d(image, box_filter)\n",
    "\n",
    "convolved_image"
   ]
  },
  {
   "cell_type": "markdown",
   "id": "35c31174",
   "metadata": {},
   "source": [
    "### Question 5"
   ]
  },
  {
   "cell_type": "markdown",
   "id": "2ad69392",
   "metadata": {},
   "source": [
    "#### Histogram"
   ]
  },
  {
   "cell_type": "code",
   "execution_count": 9,
   "id": "c0584c71",
   "metadata": {},
   "outputs": [
    {
     "data": {
      "text/plain": [
       "(array([2., 1., 1., 0., 3., 3., 0., 6., 5., 4.]),\n",
       " array([0. , 0.7, 1.4, 2.1, 2.8, 3.5, 4.2, 4.9, 5.6, 6.3, 7. ]),\n",
       " <BarContainer object of 10 artists>)"
      ]
     },
     "execution_count": 9,
     "metadata": {},
     "output_type": "execute_result"
    },
    {
     "data": {
      "image/png": "[encoded data removed]",
      "text/plain": [
       "<Figure size 640x480 with 1 Axes>"
      ]
     },
     "metadata": {},
     "output_type": "display_data"
    }
   ],
   "source": [
    "image = np.array([[2, 5, 4, 3, 7], [0, 7, 2, 1, 1], [3, 0, 0, 1, 1], [2, 3, 2, 4, 6], [1, 2, 2, 4, 0]])\n",
    "neg_image = 7 - image\n",
    "\n",
    "plt.hist(neg_image.flatten())"
   ]
  },
  {
   "cell_type": "markdown",
   "id": "2b39313b",
   "metadata": {},
   "source": [
    "#### histogram equalization"
   ]
  },
  {
   "cell_type": "code",
   "execution_count": 10,
   "id": "8abeec3a",
   "metadata": {},
   "outputs": [
    {
     "data": {
      "text/plain": [
       "array([[4., 6., 6., 5., 7.],\n",
       "       [1., 7., 4., 3., 3.],\n",
       "       [5., 1., 1., 3., 3.],\n",
       "       [4., 5., 4., 6., 6.],\n",
       "       [3., 4., 4., 6., 1.]])"
      ]
     },
     "execution_count": 10,
     "metadata": {},
     "output_type": "execute_result"
    }
   ],
   "source": [
    "image_d = {no:list(image.flatten()).count(no)/len(image.flatten()) for no in range(8)}\n",
    "\n",
    "image_c = [0] * 8\n",
    "for i in range(8):\n",
    "    if i:\n",
    "        image_c[i] = image_d[i] + image_c[i-1]\n",
    "    else:\n",
    "        image_c[i] = image_d[i]\n",
    "\n",
    "mapping = {no:round(image_c[no]*7) for no in range(8)}\n",
    "\n",
    "new_image = np.zeros(image.shape)\n",
    "for i in range(image.shape[0]):\n",
    "    for j in range(image.shape[1]):\n",
    "        new_image[i, j] = mapping[image[i, j]]\n",
    "        \n",
    "new_image"
   ]
  }
 ],
 "metadata": {
  "kernelspec": {
   "display_name": "Python 3 (ipykernel)",
   "language": "python",
   "name": "python3"
  },
  "language_info": {
   "codemirror_mode": {
    "name": "ipython",
    "version": 3
   },
   "file_extension": ".py",
   "mimetype": "text/x-python",
   "name": "python",
   "nbconvert_exporter": "python",
   "pygments_lexer": "ipython3",
   "version": "3.11.1"
  }
 },
 "nbformat": 4,
 "nbformat_minor": 5
}
