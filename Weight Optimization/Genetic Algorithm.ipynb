{
 "cells": [
  {
   "cell_type": "code",
   "execution_count": 1,
   "id": "e92500df",
   "metadata": {},
   "outputs": [],
   "source": [
    "# Importing Libraries\n",
    "import numpy as np\n",
    "import pandas as pd\n",
    "import matplotlib.pyplot as plt\n",
    "import seaborn as sns\n",
    "import random\n",
    "from sklearn.metrics import classification_report"
   ]
  },
  {
   "cell_type": "markdown",
   "id": "8b94775a",
   "metadata": {},
   "source": [
    "#### Loading the Data"
   ]
  },
  {
   "cell_type": "code",
   "execution_count": 2,
   "id": "27b8fa78",
   "metadata": {},
   "outputs": [],
   "source": [
    "df = pd.read_csv(\"Bank_Personal_Loan_Modelling.csv\")"
   ]
  },
  {
   "cell_type": "code",
   "execution_count": 3,
   "id": "b52c6461",
   "metadata": {
    "scrolled": true
   },
   "outputs": [
    {
     "name": "stdout",
     "output_type": "stream",
     "text": [
      "Shape :  (5000, 14)\n"
     ]
    },
    {
     "data": {
      "text/html": [
       "<div>\n",
       "<style scoped>\n",
       "    .dataframe tbody tr th:only-of-type {\n",
       "        vertical-align: middle;\n",
       "    }\n",
       "\n",
       "    .dataframe tbody tr th {\n",
       "        vertical-align: top;\n",
       "    }\n",
       "\n",
       "    .dataframe thead th {\n",
       "        text-align: right;\n",
       "    }\n",
       "</style>\n",
       "<table border=\"1\" class=\"dataframe\">\n",
       "  <thead>\n",
       "    <tr style=\"text-align: right;\">\n",
       "      <th></th>\n",
       "      <th>ID</th>\n",
       "      <th>Age</th>\n",
       "      <th>Experience</th>\n",
       "      <th>Income</th>\n",
       "      <th>ZIP Code</th>\n",
       "      <th>Family</th>\n",
       "      <th>CCAvg</th>\n",
       "      <th>Education</th>\n",
       "      <th>Mortgage</th>\n",
       "      <th>Personal Loan</th>\n",
       "      <th>Securities Account</th>\n",
       "      <th>CD Account</th>\n",
       "      <th>Online</th>\n",
       "      <th>CreditCard</th>\n",
       "    </tr>\n",
       "  </thead>\n",
       "  <tbody>\n",
       "    <tr>\n",
       "      <th>0</th>\n",
       "      <td>1</td>\n",
       "      <td>25</td>\n",
       "      <td>1</td>\n",
       "      <td>49</td>\n",
       "      <td>91107</td>\n",
       "      <td>4</td>\n",
       "      <td>1.6</td>\n",
       "      <td>1</td>\n",
       "      <td>0</td>\n",
       "      <td>0</td>\n",
       "      <td>1</td>\n",
       "      <td>0</td>\n",
       "      <td>0</td>\n",
       "      <td>0</td>\n",
       "    </tr>\n",
       "    <tr>\n",
       "      <th>1</th>\n",
       "      <td>2</td>\n",
       "      <td>45</td>\n",
       "      <td>19</td>\n",
       "      <td>34</td>\n",
       "      <td>90089</td>\n",
       "      <td>3</td>\n",
       "      <td>1.5</td>\n",
       "      <td>1</td>\n",
       "      <td>0</td>\n",
       "      <td>0</td>\n",
       "      <td>1</td>\n",
       "      <td>0</td>\n",
       "      <td>0</td>\n",
       "      <td>0</td>\n",
       "    </tr>\n",
       "    <tr>\n",
       "      <th>2</th>\n",
       "      <td>3</td>\n",
       "      <td>39</td>\n",
       "      <td>15</td>\n",
       "      <td>11</td>\n",
       "      <td>94720</td>\n",
       "      <td>1</td>\n",
       "      <td>1.0</td>\n",
       "      <td>1</td>\n",
       "      <td>0</td>\n",
       "      <td>0</td>\n",
       "      <td>0</td>\n",
       "      <td>0</td>\n",
       "      <td>0</td>\n",
       "      <td>0</td>\n",
       "    </tr>\n",
       "    <tr>\n",
       "      <th>3</th>\n",
       "      <td>4</td>\n",
       "      <td>35</td>\n",
       "      <td>9</td>\n",
       "      <td>100</td>\n",
       "      <td>94112</td>\n",
       "      <td>1</td>\n",
       "      <td>2.7</td>\n",
       "      <td>2</td>\n",
       "      <td>0</td>\n",
       "      <td>0</td>\n",
       "      <td>0</td>\n",
       "      <td>0</td>\n",
       "      <td>0</td>\n",
       "      <td>0</td>\n",
       "    </tr>\n",
       "    <tr>\n",
       "      <th>4</th>\n",
       "      <td>5</td>\n",
       "      <td>35</td>\n",
       "      <td>8</td>\n",
       "      <td>45</td>\n",
       "      <td>91330</td>\n",
       "      <td>4</td>\n",
       "      <td>1.0</td>\n",
       "      <td>2</td>\n",
       "      <td>0</td>\n",
       "      <td>0</td>\n",
       "      <td>0</td>\n",
       "      <td>0</td>\n",
       "      <td>0</td>\n",
       "      <td>1</td>\n",
       "    </tr>\n",
       "  </tbody>\n",
       "</table>\n",
       "</div>"
      ],
      "text/plain": [
       "   ID  Age  Experience  Income  ZIP Code  Family  CCAvg  Education  Mortgage  \\\n",
       "0   1   25           1      49     91107       4    1.6          1         0   \n",
       "1   2   45          19      34     90089       3    1.5          1         0   \n",
       "2   3   39          15      11     94720       1    1.0          1         0   \n",
       "3   4   35           9     100     94112       1    2.7          2         0   \n",
       "4   5   35           8      45     91330       4    1.0          2         0   \n",
       "\n",
       "   Personal Loan  Securities Account  CD Account  Online  CreditCard  \n",
       "0              0                   1           0       0           0  \n",
       "1              0                   1           0       0           0  \n",
       "2              0                   0           0       0           0  \n",
       "3              0                   0           0       0           0  \n",
       "4              0                   0           0       0           1  "
      ]
     },
     "execution_count": 3,
     "metadata": {},
     "output_type": "execute_result"
    }
   ],
   "source": [
    "print(\"Shape : \", df.shape)\n",
    "df.head()"
   ]
  },
  {
   "cell_type": "markdown",
   "id": "8ee0b800",
   "metadata": {},
   "source": [
    "#### Data Cleaning and Feature Engineering"
   ]
  },
  {
   "cell_type": "code",
   "execution_count": 4,
   "id": "6aa8d55a",
   "metadata": {},
   "outputs": [],
   "source": [
    "# Deleting Columns which are not necessary\n",
    "df.drop([\"ID\", \"ZIP Code\"],axis=1,inplace=True)"
   ]
  },
  {
   "cell_type": "code",
   "execution_count": 5,
   "id": "05f869a3",
   "metadata": {},
   "outputs": [
    {
     "name": "stdout",
     "output_type": "stream",
     "text": [
      "Duplicate :  13\n",
      "Null :  0\n"
     ]
    }
   ],
   "source": [
    "print(\"Duplicate : \", df.duplicated().sum())\n",
    "print(\"Null : \", df.isnull().sum().sum())"
   ]
  },
  {
   "cell_type": "code",
   "execution_count": 6,
   "id": "a0f100eb",
   "metadata": {},
   "outputs": [
    {
     "name": "stdout",
     "output_type": "stream",
     "text": [
      "[ 1 19 15  9  8 13 27 24 10 39  5 23 32 41 30 14 18 21 28 31 11 16 20 35\n",
      "  6 25  7 12 26 37 17  2 36 29  3 22 -1 34  0 38 40 33  4 -2 42 -3 43]\n"
     ]
    }
   ],
   "source": [
    "print(df[\"Experience\"].unique())\n",
    "df[\"Experience\"] = abs(df[\"Experience\"])"
   ]
  },
  {
   "cell_type": "code",
   "execution_count": 7,
   "id": "10481a9e",
   "metadata": {},
   "outputs": [
    {
     "data": {
      "text/plain": [
       "Index(['Age', 'Experience', 'Income', 'Family', 'CCAvg', 'Education',\n",
       "       'Mortgage', 'Personal Loan', 'Securities Account', 'CD Account',\n",
       "       'Online', 'CreditCard'],\n",
       "      dtype='object')"
      ]
     },
     "execution_count": 7,
     "metadata": {},
     "output_type": "execute_result"
    }
   ],
   "source": [
    "df.columns"
   ]
  },
  {
   "cell_type": "code",
   "execution_count": 8,
   "id": "c0df4086",
   "metadata": {},
   "outputs": [],
   "source": [
    "df = df[['Age', 'Experience', 'Income', 'Family', 'CCAvg','Education', 'Mortgage', 'Securities Account','CD Account', 'Online', 'CreditCard', 'Personal Loan']]"
   ]
  },
  {
   "cell_type": "code",
   "execution_count": 9,
   "id": "0b115140",
   "metadata": {},
   "outputs": [],
   "source": [
    "X = df.iloc[:,:-1].values\n",
    "Y = df.iloc[:,-1].values"
   ]
  },
  {
   "cell_type": "markdown",
   "id": "93f5a7aa",
   "metadata": {},
   "source": [
    "### Train Test Split"
   ]
  },
  {
   "cell_type": "code",
   "execution_count": 10,
   "id": "bcd06381",
   "metadata": {},
   "outputs": [],
   "source": [
    "x,y = X,Y"
   ]
  },
  {
   "cell_type": "code",
   "execution_count": 11,
   "id": "1d8cad0f",
   "metadata": {},
   "outputs": [],
   "source": [
    "from sklearn.model_selection import train_test_split\n",
    "\n",
    "x_train,x_test,y_train,y_test = train_test_split(x,y,test_size=0.25,random_state=69)"
   ]
  },
  {
   "cell_type": "code",
   "execution_count": 12,
   "id": "1b7bd982",
   "metadata": {},
   "outputs": [],
   "source": [
    "from sklearn.preprocessing import StandardScaler\n",
    "\n",
    "sc = StandardScaler()\n",
    "x_train = sc.fit_transform(x_train)\n",
    "x_test = sc.transform(x_test)"
   ]
  },
  {
   "cell_type": "code",
   "execution_count": 13,
   "id": "7433f158",
   "metadata": {},
   "outputs": [
    {
     "data": {
      "text/plain": [
       "((3750, 11), (3750,))"
      ]
     },
     "execution_count": 13,
     "metadata": {},
     "output_type": "execute_result"
    }
   ],
   "source": [
    "x_train.shape, y_train.shape"
   ]
  },
  {
   "cell_type": "markdown",
   "id": "c277b86d",
   "metadata": {},
   "source": [
    "# PyTorch "
   ]
  },
  {
   "cell_type": "code",
   "execution_count": 14,
   "id": "d1f1c3f1",
   "metadata": {},
   "outputs": [],
   "source": [
    "import torch\n",
    "from torch.utils.data import DataLoader, TensorDataset"
   ]
  },
  {
   "cell_type": "code",
   "execution_count": 15,
   "id": "5dd4e554",
   "metadata": {},
   "outputs": [],
   "source": [
    "BATCH_SIZE = 1"
   ]
  },
  {
   "cell_type": "code",
   "execution_count": 16,
   "id": "53b5e253",
   "metadata": {},
   "outputs": [],
   "source": [
    "train_x = torch.from_numpy(x_train).to(torch.float32)\n",
    "train_y = torch.from_numpy(y_train).to(torch.float32)"
   ]
  },
  {
   "cell_type": "code",
   "execution_count": 17,
   "id": "a816e476",
   "metadata": {},
   "outputs": [
    {
     "data": {
      "text/plain": [
       "(torch.Size([3750, 11]), torch.Size([3750]))"
      ]
     },
     "execution_count": 17,
     "metadata": {},
     "output_type": "execute_result"
    }
   ],
   "source": [
    "train_x.shape, train_y.shape"
   ]
  },
  {
   "cell_type": "code",
   "execution_count": 18,
   "id": "83535d93",
   "metadata": {},
   "outputs": [],
   "source": [
    "data = TensorDataset(train_x,train_y)\n",
    "data = DataLoader(data,batch_size=BATCH_SIZE,shuffle=True)"
   ]
  },
  {
   "cell_type": "markdown",
   "id": "7f359adb",
   "metadata": {},
   "source": [
    "## Building Model"
   ]
  },
  {
   "cell_type": "code",
   "execution_count": 19,
   "id": "d4d0b641",
   "metadata": {},
   "outputs": [],
   "source": [
    "class Model(torch.nn.Module):\n",
    "    \n",
    "    def __init__(self):\n",
    "        super(Model,self).__init__()\n",
    "        \n",
    "        self.layer1 = torch.nn.Linear(11,16)\n",
    "        self.layer2 = torch.nn.Linear(16,1)\n",
    "        self.sigmoid = torch.nn.Sigmoid()\n",
    "        self.relu = torch.nn.ReLU()\n",
    "        \n",
    "    def forward(self, x):\n",
    "        x = self.layer1(x)\n",
    "        x = self.relu(x)\n",
    "        x = self.layer2(x)\n",
    "        x = self.sigmoid(x)\n",
    "        return x"
   ]
  },
  {
   "cell_type": "code",
   "execution_count": 20,
   "id": "4e1e2959",
   "metadata": {},
   "outputs": [
    {
     "name": "stdout",
     "output_type": "stream",
     "text": [
      "Model(\n",
      "  (layer1): Linear(in_features=11, out_features=16, bias=True)\n",
      "  (layer2): Linear(in_features=16, out_features=1, bias=True)\n",
      "  (sigmoid): Sigmoid()\n",
      "  (relu): ReLU()\n",
      ")\n"
     ]
    }
   ],
   "source": [
    "model = Model()\n",
    "# model.to(device)\n",
    "print(model)"
   ]
  },
  {
   "cell_type": "markdown",
   "id": "ee75431f",
   "metadata": {},
   "source": [
    "# Weight Optimization using Genetic Algorithm"
   ]
  },
  {
   "cell_type": "code",
   "execution_count": 21,
   "id": "a22934dd",
   "metadata": {},
   "outputs": [],
   "source": [
    "# Accuracy \n",
    "def fitness_function(model):\n",
    "    \n",
    "    y_pred = model(train_x)\n",
    "    y_pred = torch.where(y_pred>=0.5, 1, 0).flatten()\n",
    "    accuracy = (y_pred == train_y).sum().float().item() / len(data.dataset)\n",
    "    \n",
    "    return accuracy"
   ]
  },
  {
   "cell_type": "code",
   "execution_count": 22,
   "id": "c73e2c24",
   "metadata": {},
   "outputs": [],
   "source": [
    "# Crossover and Mutation\n",
    "def crossover_mutation(model1,model2):\n",
    "    # Shape of the weights and biases\n",
    "    shp = [i.numpy().shape for i in model1.parameters()]\n",
    "    sz = [i[0]*i[1] if len(i) == 2 else i[0] for i in shp]\n",
    "    \n",
    "    # Flattening the parameters for cross over\n",
    "    matrix_1 = np.concatenate([i.numpy().flatten() for i in model1.parameters()])\n",
    "    matrix_2 = np.concatenate([i.numpy().flatten() for i in model2.parameters()])\n",
    "    \n",
    "    # Crossover\n",
    "    start = len(matrix_1)//2 - 10\n",
    "    end = len(matrix_1)//2 + 10\n",
    "    mid_value = random.randrange(start,end)\n",
    "    \n",
    "    main_child_1 = np.concatenate([matrix_1[:mid_value], matrix_2[mid_value:]])\n",
    "    main_child_2 = np.concatenate([matrix_2[:mid_value], matrix_1[mid_value:]])\n",
    "    \n",
    "    # Child 1 Mutation\n",
    "    random_start = random.randrange(0,len(matrix_1)//2)\n",
    "    random_end = random.randrange(random_start,len(matrix_1))\n",
    "    \n",
    "    child_1_mutate = main_child_1.copy()\n",
    "    child_1_mutate[random_start:random_end] = child_1_mutate[random_start:random_end][::-1]\n",
    "    \n",
    "    # Child 2 Mutation\n",
    "    random_start = random.randrange(0,len(matrix_1)//2)\n",
    "    random_end = random.randrange(random_start,len(matrix_1))\n",
    "    \n",
    "    child_2_mutate = main_child_2.copy()\n",
    "    child_2_mutate[random_start:random_end] = child_2_mutate[random_start:random_end][::-1]\n",
    "    \n",
    "    # Converting the array to parameters\n",
    "    children = [main_child_1, main_child_2, child_1_mutate, child_2_mutate]\n",
    "    output = list()\n",
    "    \n",
    "    for child in children:\n",
    "        param = list()\n",
    "        cum_sum = 0\n",
    "        for i in range(len(sz)):\n",
    "            array = child[cum_sum : cum_sum + sz[i]]\n",
    "            array = array.reshape(shp[i])\n",
    "            cum_sum += sz[i]\n",
    "            param.append(array)\n",
    "        param = np.array(param, dtype=\"object\")\n",
    "        output.append(param)\n",
    "    \n",
    "    output = np.array(output, dtype=\"object\")\n",
    "    return output"
   ]
  },
  {
   "cell_type": "code",
   "execution_count": 23,
   "id": "4da5e177",
   "metadata": {},
   "outputs": [],
   "source": [
    "# Training \n",
    "\n",
    "torch.manual_seed(69)\n",
    "torch.set_grad_enabled(False)\n",
    "population_size = 10\n",
    "\n",
    "def train(no):\n",
    "    # Initial Population\n",
    "    population = np.array([Model() for i in range(population_size)])\n",
    "    \n",
    "    best_model = None\n",
    "    \n",
    "    for loop in range(no):\n",
    "        # Sort population based up on fitness function\n",
    "        population = population[np.argsort([fitness_function(model) for model in population])]\n",
    "        \n",
    "        # Printing Max Accuracy\n",
    "        best_model = population[-1]\n",
    "        if(loop%10 == 0):\n",
    "            print(\"Gen\", loop, \" :\", fitness_function(population[-1]))\n",
    "        \n",
    "        # Parent Selection\n",
    "        parent_max_1 = population[-1]\n",
    "        parent_max_2 = population[-2]\n",
    "        parent_max_3 = population[-3]\n",
    "        parent_max_4 = population[-4] \n",
    "        parent_1 = population[0]\n",
    "        parent_2 = population[1]\n",
    "        \n",
    "        # Crossover\n",
    "        output_1 = crossover_mutation(parent_max_1, parent_max_3)\n",
    "        output_2 = crossover_mutation(parent_max_2, parent_max_4)\n",
    "        output = np.concatenate([output_1, output_2])\n",
    "        \n",
    "        # New population\n",
    "        new_population = np.array([Model() for i in range(len(output))])\n",
    "        for count, model in enumerate(new_population, 0):\n",
    "            for index, param in enumerate(model.parameters(), 0):\n",
    "                param.data = (torch.tensor(output[count][index]))\n",
    "        \n",
    "        # Add Poor performing parent to the new population\n",
    "        new_population = np.concatenate([new_population, [parent_1, parent_2]])\n",
    "        \n",
    "        # New population becomes your next population\n",
    "        population = new_population.copy()\n",
    "        \n",
    "    return best_model"
   ]
  },
  {
   "cell_type": "code",
   "execution_count": 24,
   "id": "d1e4dfd1",
   "metadata": {},
   "outputs": [
    {
     "name": "stdout",
     "output_type": "stream",
     "text": [
      "Gen 0  : 0.824\n",
      "Gen 10  : 0.9082666666666667\n",
      "Gen 20  : 0.9264\n",
      "Gen 30  : 0.9250666666666667\n",
      "Gen 40  : 0.9314666666666667\n",
      "Gen 50  : 0.9317333333333333\n",
      "Gen 60  : 0.9317333333333333\n",
      "Gen 70  : 0.9328\n",
      "Gen 80  : 0.9338666666666666\n",
      "Gen 90  : 0.9357333333333333\n"
     ]
    }
   ],
   "source": [
    "best_model = train(100)"
   ]
  },
  {
   "cell_type": "markdown",
   "id": "4636781e",
   "metadata": {},
   "source": [
    "## Testing "
   ]
  },
  {
   "cell_type": "code",
   "execution_count": 25,
   "id": "c8db78c1",
   "metadata": {},
   "outputs": [],
   "source": [
    "test_x = torch.from_numpy(x_test).to(torch.float32)\n",
    "test_y = torch.from_numpy(y_test).to(torch.float32)"
   ]
  },
  {
   "cell_type": "code",
   "execution_count": 26,
   "id": "d6fcfda7",
   "metadata": {},
   "outputs": [],
   "source": [
    "test = TensorDataset(test_x,test_y)\n",
    "test = DataLoader(test,batch_size=1)"
   ]
  },
  {
   "cell_type": "markdown",
   "id": "9b4fa006",
   "metadata": {},
   "source": [
    "### Classification Report"
   ]
  },
  {
   "cell_type": "code",
   "execution_count": 27,
   "id": "b97279cb",
   "metadata": {},
   "outputs": [
    {
     "name": "stdout",
     "output_type": "stream",
     "text": [
      "              precision    recall  f1-score   support\n",
      "\n",
      "           0       0.99      0.94      0.97      1202\n",
      "           1       0.37      0.88      0.52        48\n",
      "\n",
      "    accuracy                           0.94      1250\n",
      "   macro avg       0.68      0.91      0.74      1250\n",
      "weighted avg       0.97      0.94      0.95      1250\n",
      "\n"
     ]
    }
   ],
   "source": [
    "y_pred = best_model(test_x)\n",
    "y_pred = torch.where(y_pred>=0.5, 1, 0).flatten()\n",
    "print(classification_report(y_pred,test_y))"
   ]
  }
 ],
 "metadata": {
  "kernelspec": {
   "display_name": "Python 3 (ipykernel)",
   "language": "python",
   "name": "python3"
  },
  "language_info": {
   "codemirror_mode": {
    "name": "ipython",
    "version": 3
   },
   "file_extension": ".py",
   "mimetype": "text/x-python",
   "name": "python",
   "nbconvert_exporter": "python",
   "pygments_lexer": "ipython3",
   "version": "3.11.1"
  }
 },
 "nbformat": 4,
 "nbformat_minor": 5
}
