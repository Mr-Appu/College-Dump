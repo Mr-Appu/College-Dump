{
 "cells": [
  {
   "cell_type": "code",
   "execution_count": 1,
   "id": "e92500df",
   "metadata": {},
   "outputs": [],
   "source": [
    "# Importing Libraries\n",
    "import numpy as np\n",
    "import pandas as pd\n",
    "import matplotlib.pyplot as plt\n",
    "import seaborn as sns\n",
    "import random\n",
    "from sklearn.metrics import classification_report"
   ]
  },
  {
   "cell_type": "markdown",
   "id": "8b94775a",
   "metadata": {},
   "source": [
    "#### Loading the Data"
   ]
  },
  {
   "cell_type": "code",
   "execution_count": 2,
   "id": "27b8fa78",
   "metadata": {},
   "outputs": [],
   "source": [
    "df = pd.read_csv(\"Bank_Personal_Loan_Modelling.csv\")"
   ]
  },
  {
   "cell_type": "code",
   "execution_count": 3,
   "id": "b52c6461",
   "metadata": {
    "scrolled": true
   },
   "outputs": [
    {
     "name": "stdout",
     "output_type": "stream",
     "text": [
      "Shape :  (5000, 14)\n"
     ]
    },
    {
     "data": {
      "text/html": [
       "<div>\n",
       "<style scoped>\n",
       "    .dataframe tbody tr th:only-of-type {\n",
       "        vertical-align: middle;\n",
       "    }\n",
       "\n",
       "    .dataframe tbody tr th {\n",
       "        vertical-align: top;\n",
       "    }\n",
       "\n",
       "    .dataframe thead th {\n",
       "        text-align: right;\n",
       "    }\n",
       "</style>\n",
       "<table border=\"1\" class=\"dataframe\">\n",
       "  <thead>\n",
       "    <tr style=\"text-align: right;\">\n",
       "      <th></th>\n",
       "      <th>ID</th>\n",
       "      <th>Age</th>\n",
       "      <th>Experience</th>\n",
       "      <th>Income</th>\n",
       "      <th>ZIP Code</th>\n",
       "      <th>Family</th>\n",
       "      <th>CCAvg</th>\n",
       "      <th>Education</th>\n",
       "      <th>Mortgage</th>\n",
       "      <th>Personal Loan</th>\n",
       "      <th>Securities Account</th>\n",
       "      <th>CD Account</th>\n",
       "      <th>Online</th>\n",
       "      <th>CreditCard</th>\n",
       "    </tr>\n",
       "  </thead>\n",
       "  <tbody>\n",
       "    <tr>\n",
       "      <th>0</th>\n",
       "      <td>1</td>\n",
       "      <td>25</td>\n",
       "      <td>1</td>\n",
       "      <td>49</td>\n",
       "      <td>91107</td>\n",
       "      <td>4</td>\n",
       "      <td>1.6</td>\n",
       "      <td>1</td>\n",
       "      <td>0</td>\n",
       "      <td>0</td>\n",
       "      <td>1</td>\n",
       "      <td>0</td>\n",
       "      <td>0</td>\n",
       "      <td>0</td>\n",
       "    </tr>\n",
       "    <tr>\n",
       "      <th>1</th>\n",
       "      <td>2</td>\n",
       "      <td>45</td>\n",
       "      <td>19</td>\n",
       "      <td>34</td>\n",
       "      <td>90089</td>\n",
       "      <td>3</td>\n",
       "      <td>1.5</td>\n",
       "      <td>1</td>\n",
       "      <td>0</td>\n",
       "      <td>0</td>\n",
       "      <td>1</td>\n",
       "      <td>0</td>\n",
       "      <td>0</td>\n",
       "      <td>0</td>\n",
       "    </tr>\n",
       "    <tr>\n",
       "      <th>2</th>\n",
       "      <td>3</td>\n",
       "      <td>39</td>\n",
       "      <td>15</td>\n",
       "      <td>11</td>\n",
       "      <td>94720</td>\n",
       "      <td>1</td>\n",
       "      <td>1.0</td>\n",
       "      <td>1</td>\n",
       "      <td>0</td>\n",
       "      <td>0</td>\n",
       "      <td>0</td>\n",
       "      <td>0</td>\n",
       "      <td>0</td>\n",
       "      <td>0</td>\n",
       "    </tr>\n",
       "    <tr>\n",
       "      <th>3</th>\n",
       "      <td>4</td>\n",
       "      <td>35</td>\n",
       "      <td>9</td>\n",
       "      <td>100</td>\n",
       "      <td>94112</td>\n",
       "      <td>1</td>\n",
       "      <td>2.7</td>\n",
       "      <td>2</td>\n",
       "      <td>0</td>\n",
       "      <td>0</td>\n",
       "      <td>0</td>\n",
       "      <td>0</td>\n",
       "      <td>0</td>\n",
       "      <td>0</td>\n",
       "    </tr>\n",
       "    <tr>\n",
       "      <th>4</th>\n",
       "      <td>5</td>\n",
       "      <td>35</td>\n",
       "      <td>8</td>\n",
       "      <td>45</td>\n",
       "      <td>91330</td>\n",
       "      <td>4</td>\n",
       "      <td>1.0</td>\n",
       "      <td>2</td>\n",
       "      <td>0</td>\n",
       "      <td>0</td>\n",
       "      <td>0</td>\n",
       "      <td>0</td>\n",
       "      <td>0</td>\n",
       "      <td>1</td>\n",
       "    </tr>\n",
       "  </tbody>\n",
       "</table>\n",
       "</div>"
      ],
      "text/plain": [
       "   ID  Age  Experience  Income  ZIP Code  Family  CCAvg  Education  Mortgage  \\\n",
       "0   1   25           1      49     91107       4    1.6          1         0   \n",
       "1   2   45          19      34     90089       3    1.5          1         0   \n",
       "2   3   39          15      11     94720       1    1.0          1         0   \n",
       "3   4   35           9     100     94112       1    2.7          2         0   \n",
       "4   5   35           8      45     91330       4    1.0          2         0   \n",
       "\n",
       "   Personal Loan  Securities Account  CD Account  Online  CreditCard  \n",
       "0              0                   1           0       0           0  \n",
       "1              0                   1           0       0           0  \n",
       "2              0                   0           0       0           0  \n",
       "3              0                   0           0       0           0  \n",
       "4              0                   0           0       0           1  "
      ]
     },
     "execution_count": 3,
     "metadata": {},
     "output_type": "execute_result"
    }
   ],
   "source": [
    "print(\"Shape : \", df.shape)\n",
    "df.head()"
   ]
  },
  {
   "cell_type": "markdown",
   "id": "8ee0b800",
   "metadata": {},
   "source": [
    "#### Data Cleaning and Feature Engineering"
   ]
  },
  {
   "cell_type": "code",
   "execution_count": 4,
   "id": "6aa8d55a",
   "metadata": {},
   "outputs": [],
   "source": [
    "# Deleting Columns which are not necessary\n",
    "df.drop([\"ID\", \"ZIP Code\"],axis=1,inplace=True)"
   ]
  },
  {
   "cell_type": "code",
   "execution_count": 5,
   "id": "05f869a3",
   "metadata": {},
   "outputs": [
    {
     "name": "stdout",
     "output_type": "stream",
     "text": [
      "Duplicate :  13\n",
      "Null :  0\n"
     ]
    }
   ],
   "source": [
    "print(\"Duplicate : \", df.duplicated().sum())\n",
    "print(\"Null : \", df.isnull().sum().sum())"
   ]
  },
  {
   "cell_type": "code",
   "execution_count": 6,
   "id": "a0f100eb",
   "metadata": {},
   "outputs": [
    {
     "name": "stdout",
     "output_type": "stream",
     "text": [
      "[ 1 19 15  9  8 13 27 24 10 39  5 23 32 41 30 14 18 21 28 31 11 16 20 35\n",
      "  6 25  7 12 26 37 17  2 36 29  3 22 -1 34  0 38 40 33  4 -2 42 -3 43]\n"
     ]
    }
   ],
   "source": [
    "print(df[\"Experience\"].unique())\n",
    "df[\"Experience\"] = abs(df[\"Experience\"])"
   ]
  },
  {
   "cell_type": "code",
   "execution_count": 7,
   "id": "10481a9e",
   "metadata": {},
   "outputs": [
    {
     "data": {
      "text/plain": [
       "Index(['Age', 'Experience', 'Income', 'Family', 'CCAvg', 'Education',\n",
       "       'Mortgage', 'Personal Loan', 'Securities Account', 'CD Account',\n",
       "       'Online', 'CreditCard'],\n",
       "      dtype='object')"
      ]
     },
     "execution_count": 7,
     "metadata": {},
     "output_type": "execute_result"
    }
   ],
   "source": [
    "df.columns"
   ]
  },
  {
   "cell_type": "code",
   "execution_count": 8,
   "id": "c0df4086",
   "metadata": {},
   "outputs": [],
   "source": [
    "df = df[['Age', 'Experience', 'Income', 'Family', 'CCAvg','Education', 'Mortgage', 'Securities Account','CD Account', 'Online', 'CreditCard', 'Personal Loan']]"
   ]
  },
  {
   "cell_type": "code",
   "execution_count": 9,
   "id": "0b115140",
   "metadata": {},
   "outputs": [],
   "source": [
    "X = df.iloc[:,:-1].values\n",
    "Y = df.iloc[:,-1].values"
   ]
  },
  {
   "cell_type": "markdown",
   "id": "93f5a7aa",
   "metadata": {},
   "source": [
    "### Train Test Split"
   ]
  },
  {
   "cell_type": "code",
   "execution_count": 10,
   "id": "bcd06381",
   "metadata": {},
   "outputs": [],
   "source": [
    "x,y = X,Y"
   ]
  },
  {
   "cell_type": "code",
   "execution_count": 11,
   "id": "1d8cad0f",
   "metadata": {},
   "outputs": [],
   "source": [
    "from sklearn.model_selection import train_test_split\n",
    "\n",
    "x_train,x_test,y_train,y_test = train_test_split(x,y,test_size=0.25,random_state=69)"
   ]
  },
  {
   "cell_type": "code",
   "execution_count": 12,
   "id": "1b7bd982",
   "metadata": {},
   "outputs": [],
   "source": [
    "from sklearn.preprocessing import StandardScaler\n",
    "\n",
    "sc = StandardScaler()\n",
    "x_train = sc.fit_transform(x_train)\n",
    "x_test = sc.transform(x_test)"
   ]
  },
  {
   "cell_type": "code",
   "execution_count": 13,
   "id": "7433f158",
   "metadata": {},
   "outputs": [
    {
     "data": {
      "text/plain": [
       "((3750, 11), (3750,))"
      ]
     },
     "execution_count": 13,
     "metadata": {},
     "output_type": "execute_result"
    }
   ],
   "source": [
    "x_train.shape, y_train.shape"
   ]
  },
  {
   "cell_type": "markdown",
   "id": "c277b86d",
   "metadata": {},
   "source": [
    "# PyTorch "
   ]
  },
  {
   "cell_type": "code",
   "execution_count": 14,
   "id": "d1f1c3f1",
   "metadata": {},
   "outputs": [],
   "source": [
    "import torch\n",
    "from torch.utils.data import DataLoader, TensorDataset"
   ]
  },
  {
   "cell_type": "code",
   "execution_count": 15,
   "id": "5dd4e554",
   "metadata": {},
   "outputs": [],
   "source": [
    "BATCH_SIZE = 1"
   ]
  },
  {
   "cell_type": "code",
   "execution_count": 16,
   "id": "53b5e253",
   "metadata": {},
   "outputs": [],
   "source": [
    "train_x = torch.from_numpy(x_train).to(torch.float32)\n",
    "train_y = torch.from_numpy(y_train).to(torch.float32)"
   ]
  },
  {
   "cell_type": "code",
   "execution_count": 17,
   "id": "a816e476",
   "metadata": {},
   "outputs": [
    {
     "data": {
      "text/plain": [
       "(torch.Size([3750, 11]), torch.Size([3750]))"
      ]
     },
     "execution_count": 17,
     "metadata": {},
     "output_type": "execute_result"
    }
   ],
   "source": [
    "train_x.shape, train_y.shape"
   ]
  },
  {
   "cell_type": "code",
   "execution_count": 18,
   "id": "83535d93",
   "metadata": {},
   "outputs": [],
   "source": [
    "data = TensorDataset(train_x,train_y)\n",
    "data = DataLoader(data,batch_size=BATCH_SIZE,shuffle=True)"
   ]
  },
  {
   "cell_type": "markdown",
   "id": "7f359adb",
   "metadata": {},
   "source": [
    "## Building Model"
   ]
  },
  {
   "cell_type": "code",
   "execution_count": 19,
   "id": "d4d0b641",
   "metadata": {},
   "outputs": [],
   "source": [
    "class Model(torch.nn.Module):\n",
    "    \n",
    "    def __init__(self):\n",
    "        super(Model,self).__init__()\n",
    "        \n",
    "        self.layer1 = torch.nn.Linear(11,16)\n",
    "        self.layer2 = torch.nn.Linear(16,1)\n",
    "        self.sigmoid = torch.nn.Sigmoid()\n",
    "        self.relu = torch.nn.ReLU()\n",
    "        \n",
    "    def forward(self, x):\n",
    "        x = self.layer1(x)\n",
    "        x = self.relu(x)\n",
    "        x = self.layer2(x)\n",
    "        x = self.sigmoid(x)\n",
    "        return x"
   ]
  },
  {
   "cell_type": "code",
   "execution_count": 20,
   "id": "4e1e2959",
   "metadata": {},
   "outputs": [
    {
     "name": "stdout",
     "output_type": "stream",
     "text": [
      "Model(\n",
      "  (layer1): Linear(in_features=11, out_features=16, bias=True)\n",
      "  (layer2): Linear(in_features=16, out_features=1, bias=True)\n",
      "  (sigmoid): Sigmoid()\n",
      "  (relu): ReLU()\n",
      ")\n"
     ]
    }
   ],
   "source": [
    "model = Model()\n",
    "# model.to(device)\n",
    "print(model)"
   ]
  },
  {
   "cell_type": "markdown",
   "id": "ee75431f",
   "metadata": {},
   "source": [
    "# Weight Optimization using Ant Colony Optimization"
   ]
  },
  {
   "cell_type": "code",
   "execution_count": 21,
   "id": "3936c810",
   "metadata": {},
   "outputs": [
    {
     "data": {
      "text/plain": [
       "<torch.autograd.grad_mode.set_grad_enabled at 0x17dde195f90>"
      ]
     },
     "execution_count": 21,
     "metadata": {},
     "output_type": "execute_result"
    }
   ],
   "source": [
    "torch.manual_seed(6699)\n",
    "torch.set_grad_enabled(False)"
   ]
  },
  {
   "cell_type": "code",
   "execution_count": 22,
   "id": "472abae3",
   "metadata": {},
   "outputs": [
    {
     "name": "stdout",
     "output_type": "stream",
     "text": [
      "Dim :  209\n",
      "Layers Shape :  [(16, 11), (16,), (1, 16), (1,)]\n",
      "Layers Size :  [176, 16, 16, 1]\n"
     ]
    }
   ],
   "source": [
    "dummy = Model()\n",
    "dummy_param = np.concatenate([i.numpy().flatten() for i in dummy.parameters()])\n",
    "shape = [i.numpy().shape for i in model.parameters()]\n",
    "size = [i[0]*i[1] if len(i) == 2 else i[0] for i in shape]\n",
    "dim = len(dummy_param)\n",
    "\n",
    "print(\"Dim : \", dim)\n",
    "print(\"Layers Shape : \", shape)\n",
    "print(\"Layers Size : \", size)\n",
    "\n",
    "dummy = None\n",
    "dummy_param = None"
   ]
  },
  {
   "cell_type": "code",
   "execution_count": 23,
   "id": "dbd56600",
   "metadata": {},
   "outputs": [],
   "source": [
    "# Helper Functions\n",
    "\n",
    "def model_to_vector(model):\n",
    "    vector = np.concatenate([i.numpy().flatten() for i in model.parameters()])\n",
    "    return vector\n",
    "    \n",
    "def vector_to_model(vector):\n",
    "    param = list()\n",
    "    cum_sum = 0\n",
    "    for i in range(len(size)):\n",
    "        array = vector[cum_sum : cum_sum + size[i]]\n",
    "        array = array.reshape(shape[i])\n",
    "        cum_sum += size[i]\n",
    "        param.append(array)\n",
    "    param = np.array(param, dtype=\"object\")\n",
    "    \n",
    "    dummy_model = Model()\n",
    "    for idx,wei in enumerate(dummy_model.parameters()):\n",
    "        wei.data = (torch.tensor(param[idx])).to(torch.float32)\n",
    "        \n",
    "    return dummy_model    \n",
    "\n",
    "def calc_accuracy(model):\n",
    "    y_pred = model(train_x)\n",
    "    y_pred = torch.where(y_pred>=0.5, 1, 0).flatten()\n",
    "    acc = (y_pred == train_y).sum().float().item() / len(data.dataset)\n",
    "    \n",
    "    return acc"
   ]
  },
  {
   "cell_type": "code",
   "execution_count": 24,
   "id": "06d79157",
   "metadata": {},
   "outputs": [],
   "source": [
    "# Tunable Parameters\n",
    "\n",
    "ants = 10\n",
    "loops = 100\n",
    "evaporation_rate = 0.2\n",
    "influence_factor = 0.4"
   ]
  },
  {
   "cell_type": "code",
   "execution_count": 25,
   "id": "d5af4557",
   "metadata": {},
   "outputs": [
    {
     "name": "stdout",
     "output_type": "stream",
     "text": [
      "Iters 0 : 0.9016\n",
      "Iters 10 : 0.9026666666666666\n",
      "Iters 20 : 0.9026666666666666\n",
      "Iters 30 : 0.9026666666666666\n",
      "Iters 40 : 0.9029333333333334\n",
      "Iters 50 : 0.9026666666666666\n",
      "Iters 60 : 0.9026666666666666\n",
      "Iters 70 : 0.9130666666666667\n",
      "Iters 80 : 0.9026666666666666\n",
      "Iters 90 : 0.9021333333333333\n"
     ]
    }
   ],
   "source": [
    "pheromones = np.ones(dim)\n",
    "max_accuracy = 0\n",
    "fittest_vector = None\n",
    "\n",
    "for loop in range(loops):\n",
    "    # Generate Solution\n",
    "    paths = np.array([Model() for i in range(ants)])\n",
    "    accuracy = []\n",
    "    \n",
    "    for ant in range(ants):\n",
    "        # Flatten the weights and biases\n",
    "        vector = model_to_vector(paths[ant])\n",
    "        \n",
    "        # Multiply with pheromones \n",
    "        vector = vector * pheromones\n",
    "        \n",
    "        # Calculate Accuracy and Append to the list\n",
    "        model = vector_to_model(vector)\n",
    "        acc = calc_accuracy(model)\n",
    "        accuracy.append(acc)\n",
    "        \n",
    "        # Update the updated path\n",
    "        paths[ant] = model\n",
    "        \n",
    "        # Reset\n",
    "        model = None\n",
    "        acc = None\n",
    "        \n",
    "    # Select fittest path and accuracy\n",
    "    paths = paths[np.argsort(accuracy)]\n",
    "    \n",
    "    if accuracy[np.argmax(accuracy)] > max_accuracy:\n",
    "        max_accuracy = accuracy[np.argmax(accuracy)]\n",
    "        fittest_vector = model_to_vector(paths[-1])\n",
    "    \n",
    "    # Update pheromones\n",
    "    delta = 0\n",
    "    for ant in range(ants):\n",
    "        # Flatten the weights and biases\n",
    "        vector = model_to_vector(paths[ant])\n",
    "        \n",
    "        # Calculate delta\n",
    "        delta += (vector - fittest_vector)*influence_factor\n",
    "        \n",
    "    pheromones = (1-pheromones)*evaporation_rate + delta\n",
    "    \n",
    "    if loop%10 == 0:\n",
    "        print(\"Iters {} :\".format(loop), calc_accuracy(paths[-1]))"
   ]
  },
  {
   "cell_type": "code",
   "execution_count": 26,
   "id": "401ac17e",
   "metadata": {},
   "outputs": [
    {
     "name": "stdout",
     "output_type": "stream",
     "text": [
      "Maximum Accuracy :  0.9232\n"
     ]
    }
   ],
   "source": [
    "print(\"Maximum Accuracy : \", max_accuracy)\n",
    "best_model = vector_to_model(fittest_vector)"
   ]
  },
  {
   "cell_type": "markdown",
   "id": "4636781e",
   "metadata": {},
   "source": [
    "## Testing "
   ]
  },
  {
   "cell_type": "code",
   "execution_count": 27,
   "id": "c8db78c1",
   "metadata": {},
   "outputs": [],
   "source": [
    "test_x = torch.from_numpy(x_test).to(torch.float32)\n",
    "test_y = torch.from_numpy(y_test).to(torch.float32)"
   ]
  },
  {
   "cell_type": "code",
   "execution_count": 28,
   "id": "d6fcfda7",
   "metadata": {},
   "outputs": [],
   "source": [
    "test = TensorDataset(test_x,test_y)\n",
    "test = DataLoader(test,batch_size=1)"
   ]
  },
  {
   "cell_type": "markdown",
   "id": "9b4fa006",
   "metadata": {},
   "source": [
    "### Classification Report"
   ]
  },
  {
   "cell_type": "code",
   "execution_count": 29,
   "id": "b97279cb",
   "metadata": {},
   "outputs": [
    {
     "name": "stdout",
     "output_type": "stream",
     "text": [
      "              precision    recall  f1-score   support\n",
      "\n",
      "           0       0.96      0.96      0.96      1143\n",
      "           1       0.56      0.60      0.58       107\n",
      "\n",
      "    accuracy                           0.92      1250\n",
      "   macro avg       0.76      0.78      0.77      1250\n",
      "weighted avg       0.93      0.92      0.93      1250\n",
      "\n"
     ]
    }
   ],
   "source": [
    "y_pred = best_model(test_x)\n",
    "y_pred = torch.where(y_pred>=0.5, 1, 0).flatten()\n",
    "print(classification_report(y_pred,test_y))"
   ]
  }
 ],
 "metadata": {
  "kernelspec": {
   "display_name": "Python 3 (ipykernel)",
   "language": "python",
   "name": "python3"
  },
  "language_info": {
   "codemirror_mode": {
    "name": "ipython",
    "version": 3
   },
   "file_extension": ".py",
   "mimetype": "text/x-python",
   "name": "python",
   "nbconvert_exporter": "python",
   "pygments_lexer": "ipython3",
   "version": "3.11.1"
  }
 },
 "nbformat": 4,
 "nbformat_minor": 5
}
