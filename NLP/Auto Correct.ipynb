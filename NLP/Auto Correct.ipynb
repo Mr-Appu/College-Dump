{
 "cells": [
  {
   "cell_type": "markdown",
   "id": "9a0078d0",
   "metadata": {},
   "source": [
    "### Import library"
   ]
  },
  {
   "cell_type": "code",
   "execution_count": 1,
   "id": "6154a363",
   "metadata": {},
   "outputs": [],
   "source": [
    "import re\n",
    "import string\n",
    "import numpy as np\n",
    "import pandas as pd\n",
    "from collections import Counter"
   ]
  },
  {
   "cell_type": "markdown",
   "id": "e9bd49b3",
   "metadata": {},
   "source": [
    "### Data Preprocessing"
   ]
  },
  {
   "cell_type": "code",
   "execution_count": 2,
   "id": "80576cc5",
   "metadata": {},
   "outputs": [],
   "source": [
    "# Helper Functions\n",
    "\n",
    "def process_data(file_name):\n",
    "    with open(file_name, \"r\") as f:\n",
    "        data = f.read()\n",
    "        \n",
    "    data = data.lower()\n",
    "    words = re.findall(\"\\w+\", data)\n",
    "    \n",
    "    return words\n",
    "\n",
    "def get_count(word_l):\n",
    "    return Counter(word_l)\n",
    "\n",
    "def get_probs(word_count_dict):\n",
    "    probs = {}\n",
    "    \n",
    "    m = sum(word_count_dict.values())\n",
    "    for key in word_count_dict:\n",
    "        probs[key] = word_count_dict[key]/m\n",
    "    \n",
    "    return probs"
   ]
  },
  {
   "cell_type": "code",
   "execution_count": 3,
   "id": "3fd51fed",
   "metadata": {},
   "outputs": [
    {
     "name": "stdout",
     "output_type": "stream",
     "text": [
      "Vocab size : 6116\n",
      "Word Count for the word 'muse' : 18\n",
      "P('muse') : 0.000335733204013877\n"
     ]
    }
   ],
   "source": [
    "word_l = process_data(\"Dataset/shakespeare.txt\")\n",
    "\n",
    "vocab = set(word_l)\n",
    "word_count_dict = get_count(word_l)\n",
    "word_probs = get_probs(word_count_dict)\n",
    "\n",
    "print(\"Vocab size :\", len(vocab))\n",
    "print(\"Word Count for the word 'muse' :\", word_count_dict.get(\"muse\", 0))\n",
    "print(f\"P('muse') :\", word_probs[\"muse\"])"
   ]
  },
  {
   "cell_type": "markdown",
   "id": "9cdb9bf1",
   "metadata": {},
   "source": [
    "### String Manipulations"
   ]
  },
  {
   "cell_type": "code",
   "execution_count": 4,
   "id": "729d083b",
   "metadata": {},
   "outputs": [],
   "source": [
    "# Helper Functions\n",
    "\n",
    "def delete_letter(word):\n",
    "    return [word[:idx]+word[idx+1:] for idx in range(len(word))]\n",
    "\n",
    "def switch_letter(word):\n",
    "    word_l = list(word)\n",
    "    \n",
    "    req_l = []\n",
    "    for idx in range(len(word)-1):\n",
    "        word_l[idx], word_l[idx+1] = word_l[idx+1], word_l[idx]\n",
    "        req_l.append(\"\".join(word_l))\n",
    "        word_l[idx], word_l[idx+1] = word_l[idx+1], word_l[idx]\n",
    "        \n",
    "    return req_l\n",
    "\n",
    "def replace_letter(word):\n",
    "    word_l = list(word)\n",
    "    \n",
    "    req_l = []\n",
    "    for idx in range(len(word)):\n",
    "        for char in string.ascii_lowercase:\n",
    "            word_l[idx] = char\n",
    "            req_l.append(\"\".join(word_l))\n",
    "            word_l[idx] = word[idx]\n",
    "            \n",
    "    req_set = set(req_l)\n",
    "    req_set.remove(word)\n",
    "    req_l = sorted(list(req_set))\n",
    "            \n",
    "    return req_l\n",
    "\n",
    "def insert_letter(word):\n",
    "    req_l = []\n",
    "    for idx in range(len(word)+1):\n",
    "        for char in string.ascii_lowercase:\n",
    "            req_l.append(word[:idx]+ char + word[idx:])\n",
    "            \n",
    "    return req_l"
   ]
  },
  {
   "cell_type": "code",
   "execution_count": 5,
   "id": "b3fd5f1d",
   "metadata": {},
   "outputs": [
    {
     "name": "stdout",
     "output_type": "stream",
     "text": [
      "Delete Letter : 2\n",
      "Switch Letter : 1\n",
      "Replace Letter : 50\n",
      "Insert Letter : 78\n"
     ]
    }
   ],
   "source": [
    "print(\"Delete Letter :\", len(delete_letter(\"at\")))\n",
    "print(\"Switch Letter :\", len(switch_letter(\"at\")))\n",
    "print(\"Replace Letter :\", len(replace_letter(\"at\")))\n",
    "print(\"Insert Letter :\", len(insert_letter(\"at\")))"
   ]
  },
  {
   "cell_type": "markdown",
   "id": "74e71cd1",
   "metadata": {},
   "source": [
    "### Combining the edits"
   ]
  },
  {
   "cell_type": "code",
   "execution_count": 6,
   "id": "6ca2cbaa",
   "metadata": {},
   "outputs": [],
   "source": [
    "def edit_one_letter(word):\n",
    "    edit_one_set = set()\n",
    "    \n",
    "    edit_one_set.update(delete_letter(word))\n",
    "    edit_one_set.update(switch_letter(word))\n",
    "    edit_one_set.update(replace_letter(word))\n",
    "    edit_one_set.update(insert_letter(word))\n",
    "    \n",
    "    return edit_one_set\n",
    "\n",
    "\n",
    "def edit_two_letter(word):\n",
    "    edit_two_set = set()\n",
    "    \n",
    "    edit_one = edit_one_letter(word)\n",
    "    for w in edit_one:\n",
    "        if w:\n",
    "            edit_two_set.update(edit_one_letter(w))\n",
    "            \n",
    "    return edit_two_set"
   ]
  },
  {
   "cell_type": "code",
   "execution_count": 7,
   "id": "5094a2c4",
   "metadata": {},
   "outputs": [
    {
     "name": "stdout",
     "output_type": "stream",
     "text": [
      "Edit one Letter : 129\n",
      "Edit Two Letter : 7154\n"
     ]
    }
   ],
   "source": [
    "print(\"Edit one Letter :\", len(edit_one_letter(\"at\")))\n",
    "print(\"Edit Two Letter :\", len(edit_two_letter(\"at\")))"
   ]
  },
  {
   "cell_type": "markdown",
   "id": "b1be0f2e",
   "metadata": {},
   "source": [
    "### Spelling Suggestions\n"
   ]
  },
  {
   "cell_type": "code",
   "execution_count": 8,
   "id": "1cc86229",
   "metadata": {},
   "outputs": [],
   "source": [
    "def get_corrections(word, probs, vocab, n=5):\n",
    "    \n",
    "    if (not word) or (word in vocab):\n",
    "        return [word]\n",
    "    \n",
    "    suggestions = list(edit_one_letter(word).intersection(vocab) or edit_two_letter(word).intersection(vocab))\n",
    "    best = sorted([[s, probs[s]] for s in suggestions], key = lambda x : x[1], reverse=True)\n",
    "    n_best = [word for word, prob in best[:n]]\n",
    "    \n",
    "    return n_best"
   ]
  },
  {
   "cell_type": "code",
   "execution_count": 9,
   "id": "e1ee4426",
   "metadata": {},
   "outputs": [
    {
     "data": {
      "text/plain": [
       "['battle', 'batt']"
      ]
     },
     "execution_count": 9,
     "metadata": {},
     "output_type": "execute_result"
    }
   ],
   "source": [
    "get_corrections(\"battl\", word_probs, vocab)"
   ]
  },
  {
   "cell_type": "markdown",
   "id": "50cc2d72",
   "metadata": {},
   "source": [
    "### Minimum Edit distance"
   ]
  },
  {
   "cell_type": "code",
   "execution_count": 10,
   "id": "873bcdd6",
   "metadata": {},
   "outputs": [],
   "source": [
    "def min_edit_distance(source, target, ins_cost = 1, del_cost = 1, rep_cost = 2):\n",
    "    m = len(source)\n",
    "    n = len(target)\n",
    "    \n",
    "    arr = np.zeros((m+1, n+1), dtype=int)\n",
    "    \n",
    "    for row in range(1, m+1):\n",
    "        arr[row][0] = arr[row-1][0] + del_cost\n",
    "        \n",
    "    for col in range(1, n+1):\n",
    "        arr[0][col] = arr[0][col-1] + ins_cost\n",
    "    \n",
    "    for row in range(1, m+1):\n",
    "        for col in range(1, n+1):\n",
    "            \n",
    "            r_cost = rep_cost\n",
    "            \n",
    "            if source[row-1] == target[col-1]:\n",
    "                r_cost = 0\n",
    "            \n",
    "            arr[row][col] = min([arr[row-1][col] + del_cost, arr[row][col-1] + ins_cost, arr[row-1][col-1] + r_cost])\n",
    "            \n",
    "    min_edit = arr[m][n]\n",
    "    \n",
    "    return arr, min_edit"
   ]
  },
  {
   "cell_type": "code",
   "execution_count": 11,
   "id": "6bcaf011",
   "metadata": {},
   "outputs": [
    {
     "name": "stdout",
     "output_type": "stream",
     "text": [
      "   #  p  l  a  y\n",
      "#  0  1  2  3  4\n",
      "s  1  2  3  4  5\n",
      "t  2  3  4  5  6\n",
      "a  3  4  5  4  5\n",
      "y  4  5  6  5  4\n"
     ]
    }
   ],
   "source": [
    "arr, dist = min_edit_distance(\"stay\", \"play\")\n",
    "\n",
    "print(pd.DataFrame(arr, index=list(\"#stay\"), columns=list(\"#play\")))"
   ]
  },
  {
   "cell_type": "markdown",
   "id": "21196674",
   "metadata": {},
   "source": [
    "### Playground"
   ]
  },
  {
   "cell_type": "code",
   "execution_count": 12,
   "id": "7cec7fc6",
   "metadata": {},
   "outputs": [
    {
     "name": "stdout",
     "output_type": "stream",
     "text": [
      "Enter a Word : Rahul\n",
      "\n",
      "Spelling Suggestions with Minimum Edit Distance\n",
      "\n",
      "rail  :  2\n",
      "rful  :  2\n"
     ]
    }
   ],
   "source": [
    "misspelled_string = input(\"Enter a Word : \")\n",
    "misspelled_string = misspelled_string.lower()\n",
    "\n",
    "string_l = get_corrections(misspelled_string, word_probs, vocab, n=10)\n",
    "\n",
    "print(\"\\nSpelling Suggestions with Minimum Edit Distance\\n\")\n",
    "\n",
    "for word in string_l:\n",
    "    print(word, \" : \", min_edit_distance(misspelled_string, word, 1, 1, 1)[1])"
   ]
  }
 ],
 "metadata": {
  "kernelspec": {
   "display_name": "Python 3 (ipykernel)",
   "language": "python",
   "name": "python3"
  },
  "language_info": {
   "codemirror_mode": {
    "name": "ipython",
    "version": 3
   },
   "file_extension": ".py",
   "mimetype": "text/x-python",
   "name": "python",
   "nbconvert_exporter": "python",
   "pygments_lexer": "ipython3",
   "version": "3.11.1"
  }
 },
 "nbformat": 4,
 "nbformat_minor": 5
}
