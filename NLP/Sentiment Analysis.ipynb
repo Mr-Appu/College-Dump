{
 "cells": [
  {
   "cell_type": "markdown",
   "id": "2ca4766e",
   "metadata": {},
   "source": [
    "## Pipeline \n",
    "\n",
    "* Load Dataset \n",
    "* Clean the Dataset\n",
    "* Text Pre-Processing\n",
    "* Text Vectorization\n",
    "* Build and Train Model\n",
    "* Plot Classification Report"
   ]
  },
  {
   "cell_type": "markdown",
   "id": "6159bff9",
   "metadata": {},
   "source": [
    "### Import Library"
   ]
  },
  {
   "cell_type": "code",
   "execution_count": 1,
   "id": "d7dc9dc1",
   "metadata": {},
   "outputs": [],
   "source": [
    "# Import Library\n",
    "\n",
    "import re\n",
    "import nltk\n",
    "import numpy as np\n",
    "import pandas as pd\n",
    "\n",
    "import warnings\n",
    "warnings.filterwarnings(\"ignore\")"
   ]
  },
  {
   "cell_type": "markdown",
   "id": "19352fb6",
   "metadata": {},
   "source": [
    "### Load Dataset"
   ]
  },
  {
   "cell_type": "code",
   "execution_count": 2,
   "id": "ac1a039b",
   "metadata": {},
   "outputs": [
    {
     "name": "stdout",
     "output_type": "stream",
     "text": [
      "Train Shape : (27480, 2)\n",
      "Test Shape  : (3534, 2)\n"
     ]
    },
    {
     "data": {
      "text/html": [
       "<div>\n",
       "<style scoped>\n",
       "    .dataframe tbody tr th:only-of-type {\n",
       "        vertical-align: middle;\n",
       "    }\n",
       "\n",
       "    .dataframe tbody tr th {\n",
       "        vertical-align: top;\n",
       "    }\n",
       "\n",
       "    .dataframe thead th {\n",
       "        text-align: right;\n",
       "    }\n",
       "</style>\n",
       "<table border=\"1\" class=\"dataframe\">\n",
       "  <thead>\n",
       "    <tr style=\"text-align: right;\">\n",
       "      <th></th>\n",
       "      <th>text</th>\n",
       "      <th>sentiment</th>\n",
       "    </tr>\n",
       "  </thead>\n",
       "  <tbody>\n",
       "    <tr>\n",
       "      <th>0</th>\n",
       "      <td>I`d have responded, if I were going</td>\n",
       "      <td>neutral</td>\n",
       "    </tr>\n",
       "    <tr>\n",
       "      <th>1</th>\n",
       "      <td>Sooo SAD I will miss you here in San Diego!!!</td>\n",
       "      <td>negative</td>\n",
       "    </tr>\n",
       "    <tr>\n",
       "      <th>2</th>\n",
       "      <td>my boss is bullying me...</td>\n",
       "      <td>negative</td>\n",
       "    </tr>\n",
       "    <tr>\n",
       "      <th>3</th>\n",
       "      <td>what interview! leave me alone</td>\n",
       "      <td>negative</td>\n",
       "    </tr>\n",
       "    <tr>\n",
       "      <th>4</th>\n",
       "      <td>Sons of ****, why couldn`t they put them on t...</td>\n",
       "      <td>negative</td>\n",
       "    </tr>\n",
       "  </tbody>\n",
       "</table>\n",
       "</div>"
      ],
      "text/plain": [
       "                                                text sentiment\n",
       "0                I`d have responded, if I were going   neutral\n",
       "1      Sooo SAD I will miss you here in San Diego!!!  negative\n",
       "2                          my boss is bullying me...  negative\n",
       "3                     what interview! leave me alone  negative\n",
       "4   Sons of ****, why couldn`t they put them on t...  negative"
      ]
     },
     "execution_count": 2,
     "metadata": {},
     "output_type": "execute_result"
    }
   ],
   "source": [
    "# Load Dataset\n",
    "\n",
    "def load_dataset(file_name):\n",
    "    \n",
    "    df = pd.read_csv(file_name, encoding= 'unicode_escape')\n",
    "    \n",
    "    df = df[[\"text\", \"sentiment\"]]\n",
    "    df.drop_duplicates(inplace = True)\n",
    "    df.dropna(inplace = True)\n",
    "    \n",
    "    return df\n",
    "\n",
    "train_df = load_dataset(\"Dataset/Ex 2/train.csv\")\n",
    "test_df = load_dataset(\"Dataset/Ex 2/test.csv\")\n",
    "\n",
    "print(\"Train Shape :\", train_df.shape)\n",
    "print(\"Test Shape  :\", test_df.shape)\n",
    "\n",
    "train_df.head()"
   ]
  },
  {
   "cell_type": "code",
   "execution_count": 3,
   "id": "0d21ce32",
   "metadata": {},
   "outputs": [],
   "source": [
    "# Y Label\n",
    "\n",
    "from sklearn.preprocessing import LabelEncoder\n",
    "\n",
    "encoder = LabelEncoder()\n",
    "train_y = encoder.fit_transform(train_df[\"sentiment\"])\n",
    "test_y = encoder.transform(test_df[\"sentiment\"])\n",
    "\n",
    "# train_y = np.array(pd.get_dummies(train_df[\"sentiment\"])[[\"positive\", \"neutral\", \"negative\"]])\n",
    "# test_y  = np.array(pd.get_dummies(test_df[\"sentiment\"])[[\"positive\", \"neutral\", \"negative\"]])"
   ]
  },
  {
   "cell_type": "markdown",
   "id": "64a3bd69",
   "metadata": {},
   "source": [
    "### Text - Preprocessing"
   ]
  },
  {
   "cell_type": "code",
   "execution_count": 4,
   "id": "95acaffd",
   "metadata": {},
   "outputs": [
    {
     "data": {
      "text/plain": [
       "['i', 'love', 'nlp']"
      ]
     },
     "execution_count": 4,
     "metadata": {},
     "output_type": "execute_result"
    }
   ],
   "source": [
    "# Tweet Preprocessing\n",
    "\n",
    "def pre_processing(tweet: str):\n",
    "    \n",
    "    # Remove Leading Blank Spaces\n",
    "    tweet = tweet.strip()\n",
    "    \n",
    "    # Lower Case\n",
    "    tweet = tweet.lower()\n",
    "    \n",
    "    # Remove URLS \n",
    "    url_pattern = re.compile(r\"https?://\\S+|www\\.\\S+\")\n",
    "    tweet = re.sub(url_pattern, \"\", tweet)\n",
    "    \n",
    "    # Remove UserName\n",
    "    username_pattern = re.compile(r\"@\\w+\")\n",
    "    tweet = re.sub(username_pattern, \"\", tweet)\n",
    "    \n",
    "    # Remove Hashtags\n",
    "    hashtag_pattern = re.compile(r\"#\\w+\")\n",
    "    tweet = re.sub(hashtag_pattern, \"\", tweet)\n",
    "    \n",
    "    # Character normalization // todaaaaay -> today\n",
    "    tweet = re.sub(r\"([a-zA-Z])\\1{2,}\", r'\\1', tweet)\n",
    "    \n",
    "    # Remove Special Characters\n",
    "    tweet = re.sub(r'[^a-zA-Z\\s]', \"\", tweet)\n",
    "    \n",
    "    # Word Tokenizer\n",
    "    tweet = nltk.word_tokenize(tweet)\n",
    "    \n",
    "#     # Remove Stop Words \n",
    "#     stop_words = set([re.sub(r'[^a-zA-Z\\s]', \"\", word) for word in nltk.corpus.stopwords.words(\"english\")])\n",
    "#     tweet = [word for word in tweet if word not in stop_words]\n",
    "    \n",
    "    # lemmatization\n",
    "    def get_pos(word):\n",
    "        tag = nltk.pos_tag([word])[0][1][0].upper()\n",
    "        tag_dict = {\"N\": \"n\", \"V\": \"v\", \"R\": \"r\", \"J\": \"a\"}\n",
    "        return tag_dict.get(tag, \"n\")\n",
    "    \n",
    "    lemma = nltk.stem.WordNetLemmatizer()\n",
    "    tweet = [lemma.lemmatize(word, pos=get_pos(word)) for word in tweet]\n",
    "    \n",
    "    return tweet\n",
    "\n",
    "train_df[\"pre-tweet\"] = train_df[\"text\"].apply(pre_processing)\n",
    "test_df[\"pre-tweet\"] = test_df[\"text\"].apply(pre_processing)\n",
    "\n",
    "train_df[\"documents\"] = train_df[\"pre-tweet\"].apply(lambda x : \" \".join(x))\n",
    "test_df[\"documents\"] = test_df[\"pre-tweet\"].apply(lambda x : \" \".join(x))\n",
    "\n",
    "pre_processing(\"I loveeeee NLP, @rahul_appu, www.rahul_appu.com, #NLP \")"
   ]
  },
  {
   "cell_type": "markdown",
   "id": "145b9d03",
   "metadata": {},
   "source": [
    "### Vocab"
   ]
  },
  {
   "cell_type": "code",
   "execution_count": 5,
   "id": "b67ada3d",
   "metadata": {},
   "outputs": [
    {
     "name": "stdout",
     "output_type": "stream",
     "text": [
      "Vocab Size : 22037\n"
     ]
    }
   ],
   "source": [
    "vocab = set()\n",
    "\n",
    "for words in train_df[\"pre-tweet\"]:\n",
    "    for word in words:\n",
    "        vocab.add(word)\n",
    "        \n",
    "print(\"Vocab Size :\", len(vocab))"
   ]
  },
  {
   "cell_type": "markdown",
   "id": "2ab71a64",
   "metadata": {},
   "source": [
    "### Vectorization"
   ]
  },
  {
   "cell_type": "markdown",
   "id": "14043311",
   "metadata": {},
   "source": [
    "#### Bag of Words"
   ]
  },
  {
   "cell_type": "code",
   "execution_count": 6,
   "id": "e8d4736a",
   "metadata": {},
   "outputs": [],
   "source": [
    "from sklearn.feature_extraction.text import CountVectorizer\n",
    "\n",
    "bag_of_words = CountVectorizer()\n",
    "\n",
    "train_bow = bag_of_words.fit_transform(train_df[\"documents\"])\n",
    "test_bow = bag_of_words.transform(test_df[\"documents\"])"
   ]
  },
  {
   "cell_type": "code",
   "execution_count": 7,
   "id": "3f17ce9b",
   "metadata": {},
   "outputs": [
    {
     "name": "stdout",
     "output_type": "stream",
     "text": [
      "Accuracy Score : 0.7023203169213356\n",
      "\n",
      "              precision    recall  f1-score   support\n",
      "\n",
      "           0       0.71      0.64      0.67      1001\n",
      "           1       0.64      0.73      0.68      1430\n",
      "           2       0.79      0.72      0.75      1103\n",
      "\n",
      "    accuracy                           0.70      3534\n",
      "   macro avg       0.71      0.70      0.70      3534\n",
      "weighted avg       0.71      0.70      0.70      3534\n",
      "\n"
     ]
    }
   ],
   "source": [
    "from sklearn.linear_model import LogisticRegression\n",
    "\n",
    "model = LogisticRegression(max_iter = 1000)\n",
    "model.fit(train_bow, train_y)\n",
    "\n",
    "\n",
    "from sklearn.metrics import classification_report, accuracy_score\n",
    "\n",
    "predict = model.predict(test_bow)\n",
    "print(\"Accuracy Score :\", accuracy_score(test_y, predict), end='\\n\\n')\n",
    "print(classification_report(y_true = test_y, y_pred = predict))"
   ]
  },
  {
   "cell_type": "markdown",
   "id": "796d78a5",
   "metadata": {},
   "source": [
    "#### TF - IDF"
   ]
  },
  {
   "cell_type": "code",
   "execution_count": 8,
   "id": "cc3f125e",
   "metadata": {},
   "outputs": [],
   "source": [
    "from sklearn.feature_extraction.text import TfidfVectorizer\n",
    "\n",
    "tf_idf = TfidfVectorizer()\n",
    "\n",
    "train_idf = tf_idf.fit_transform(train_df[\"documents\"])\n",
    "test_idf = tf_idf.transform(test_df[\"documents\"])"
   ]
  },
  {
   "cell_type": "code",
   "execution_count": 9,
   "id": "9d06ffab",
   "metadata": {},
   "outputs": [
    {
     "name": "stdout",
     "output_type": "stream",
     "text": [
      "Accuracy Score : 0.7105263157894737\n",
      "\n",
      "              precision    recall  f1-score   support\n",
      "\n",
      "           0       0.73      0.65      0.69      1001\n",
      "           1       0.64      0.75      0.69      1430\n",
      "           2       0.81      0.71      0.76      1103\n",
      "\n",
      "    accuracy                           0.71      3534\n",
      "   macro avg       0.73      0.70      0.71      3534\n",
      "weighted avg       0.72      0.71      0.71      3534\n",
      "\n"
     ]
    }
   ],
   "source": [
    "from sklearn.linear_model import LogisticRegression\n",
    "\n",
    "model = LogisticRegression(max_iter = 1000)\n",
    "model.fit(train_idf, train_y)\n",
    "\n",
    "from sklearn.metrics import classification_report, accuracy_score\n",
    "\n",
    "predict = model.predict(test_idf)\n",
    "print(\"Accuracy Score :\", accuracy_score(test_y, predict), end='\\n\\n')\n",
    "print(classification_report(y_true = test_y, y_pred = predict))"
   ]
  },
  {
   "cell_type": "markdown",
   "id": "9f1aab33",
   "metadata": {},
   "source": [
    "#### Continuous Bag of Words"
   ]
  },
  {
   "cell_type": "code",
   "execution_count": 10,
   "id": "a0e3717c",
   "metadata": {},
   "outputs": [],
   "source": [
    "from gensim.models import Word2Vec\n",
    "\n",
    "g_model = Word2Vec(sentences=train_df[\"pre-tweet\"], vector_size=200, window=5, workers=5, epochs=500)"
   ]
  },
  {
   "cell_type": "code",
   "execution_count": 11,
   "id": "944b5b1a",
   "metadata": {},
   "outputs": [],
   "source": [
    "def in_vocab(word_l):\n",
    "    for word in word_l:\n",
    "        if word not in g_model.wv:\n",
    "            return False\n",
    "    else:\n",
    "        return True\n",
    "\n",
    "train_vec = [g_model.wv[x].sum(axis = 0) if len(x) and in_vocab(x) else np.zeros((200)) for x in train_df[\"pre-tweet\"]]\n",
    "test_vec  = [g_model.wv[x].sum(axis = 0) if len(x) and in_vocab(x) else np.zeros((200)) for x in test_df[\"pre-tweet\"]]"
   ]
  },
  {
   "cell_type": "code",
   "execution_count": 12,
   "id": "2ffd5314",
   "metadata": {},
   "outputs": [
    {
     "name": "stdout",
     "output_type": "stream",
     "text": [
      "Accuracy Score : 0.5195246179966044\n",
      "\n",
      "              precision    recall  f1-score   support\n",
      "\n",
      "           0       0.65      0.29      0.40      1001\n",
      "           1       0.46      0.86      0.60      1430\n",
      "           2       0.73      0.29      0.42      1103\n",
      "\n",
      "    accuracy                           0.52      3534\n",
      "   macro avg       0.62      0.48      0.47      3534\n",
      "weighted avg       0.60      0.52      0.49      3534\n",
      "\n"
     ]
    }
   ],
   "source": [
    "from sklearn.linear_model import LogisticRegression\n",
    "\n",
    "model = LogisticRegression(max_iter = 1000)\n",
    "model.fit(train_vec, train_y)\n",
    "\n",
    "from sklearn.metrics import classification_report, accuracy_score\n",
    "\n",
    "predict = model.predict(test_vec)\n",
    "print(\"Accuracy Score :\", accuracy_score(test_y, predict), end='\\n\\n')\n",
    "print(classification_report(y_true = test_y, y_pred = predict))"
   ]
  },
  {
   "cell_type": "markdown",
   "id": "b9c02dc9",
   "metadata": {},
   "source": [
    "#### Skip gram"
   ]
  },
  {
   "cell_type": "code",
   "execution_count": 13,
   "id": "7180743c",
   "metadata": {},
   "outputs": [],
   "source": [
    "from gensim.models import Word2Vec\n",
    "\n",
    "g_model = Word2Vec(sentences=train_df[\"pre-tweet\"], vector_size=200, window=5, workers=5, sg=1, epochs=500)"
   ]
  },
  {
   "cell_type": "code",
   "execution_count": 14,
   "id": "a9e87eef",
   "metadata": {},
   "outputs": [],
   "source": [
    "def in_vocab(word_l):\n",
    "    for word in word_l:\n",
    "        if word not in g_model.wv:\n",
    "            return False\n",
    "    else:\n",
    "        return True\n",
    "\n",
    "train_vec = [g_model.wv[x].sum(axis = 0) if len(x) and in_vocab(x) else np.zeros((200)) for x in train_df[\"pre-tweet\"]]\n",
    "test_vec  = [g_model.wv[x].sum(axis = 0) if len(x) and in_vocab(x) else np.zeros((200)) for x in test_df[\"pre-tweet\"]]"
   ]
  },
  {
   "cell_type": "code",
   "execution_count": 15,
   "id": "16718184",
   "metadata": {},
   "outputs": [
    {
     "name": "stdout",
     "output_type": "stream",
     "text": [
      "Accuracy Score : 0.5172608941709111\n",
      "\n",
      "              precision    recall  f1-score   support\n",
      "\n",
      "           0       0.67      0.29      0.40      1001\n",
      "           1       0.46      0.86      0.60      1430\n",
      "           2       0.71      0.29      0.41      1103\n",
      "\n",
      "    accuracy                           0.52      3534\n",
      "   macro avg       0.61      0.48      0.47      3534\n",
      "weighted avg       0.60      0.52      0.48      3534\n",
      "\n"
     ]
    }
   ],
   "source": [
    "from sklearn.linear_model import LogisticRegression\n",
    "\n",
    "model = LogisticRegression(max_iter = 1000)\n",
    "model.fit(train_vec, train_y)\n",
    "\n",
    "from sklearn.metrics import classification_report, accuracy_score\n",
    "\n",
    "predict = model.predict(test_vec)\n",
    "print(\"Accuracy Score :\", accuracy_score(test_y, predict), end='\\n\\n')\n",
    "print(classification_report(y_true = test_y, y_pred = predict))"
   ]
  },
  {
   "cell_type": "markdown",
   "id": "33f40ac1",
   "metadata": {},
   "source": [
    "#### Word2Vec - Twitter Glove"
   ]
  },
  {
   "cell_type": "code",
   "execution_count": 16,
   "id": "13d92b05",
   "metadata": {},
   "outputs": [],
   "source": [
    "import gensim.downloader as api\n",
    "\n",
    "model = api.load(\"glove-twitter-200\")\n",
    "\n",
    "shape_n = 200\n",
    "\n",
    "def in_vocab(word_l):\n",
    "    for word in word_l:\n",
    "        if word not in model:\n",
    "            return False\n",
    "    else:\n",
    "        return True\n",
    "\n",
    "train_vec = [model[x].sum(axis = 0) if len(x) and in_vocab(x) else np.zeros((shape_n)) for x in train_df[\"pre-tweet\"]]\n",
    "test_vec  = [model[x].sum(axis = 0) if len(x) and in_vocab(x) else np.zeros((shape_n)) for x in test_df[\"pre-tweet\"]]"
   ]
  },
  {
   "cell_type": "code",
   "execution_count": 17,
   "id": "c5c6a2f5",
   "metadata": {},
   "outputs": [
    {
     "name": "stdout",
     "output_type": "stream",
     "text": [
      "Accuracy Score : 0.642331635540464\n",
      "\n",
      "              precision    recall  f1-score   support\n",
      "\n",
      "           0       0.72      0.56      0.63      1001\n",
      "           1       0.57      0.73      0.64      1430\n",
      "           2       0.73      0.60      0.66      1103\n",
      "\n",
      "    accuracy                           0.64      3534\n",
      "   macro avg       0.67      0.63      0.64      3534\n",
      "weighted avg       0.66      0.64      0.64      3534\n",
      "\n"
     ]
    }
   ],
   "source": [
    "from sklearn.linear_model import LogisticRegression\n",
    "\n",
    "model = LogisticRegression(max_iter = 1000)\n",
    "model.fit(train_vec, train_y)\n",
    "\n",
    "from sklearn.metrics import classification_report, accuracy_score\n",
    "\n",
    "predict = model.predict(test_vec)\n",
    "print(\"Accuracy Score :\", accuracy_score(test_y, predict), end='\\n\\n')\n",
    "print(classification_report(y_true = test_y, y_pred = predict))"
   ]
  },
  {
   "cell_type": "markdown",
   "id": "55f6046c",
   "metadata": {},
   "source": [
    "### Classification : TF - IDF"
   ]
  },
  {
   "cell_type": "code",
   "execution_count": 18,
   "id": "20014484",
   "metadata": {},
   "outputs": [],
   "source": [
    "text = \"\"\"What is not to like about this product.\n",
    "Not bad.\n",
    "Not an issue.\n",
    "Not buggy.\n",
    "Not happy.\n",
    "Not user-friendly.\n",
    "Not good.\n",
    "Is it any good?\n",
    "I do not dislike horror movies. \n",
    "Disliking horror movies is not uncommon. \n",
    "Sometimes I really hate the show. \n",
    "I love having to wait two months for the next series to come out! \n",
    "The final episode was surprising with a terrible twist at the end.\n",
    "The film was easy to watch but I would not recommend it to my friends. \n",
    "I LOL’d at the end of the cake scene.\"\"\"\n",
    "\n",
    "input_text = text.split(\"\\n\")\n",
    "input_text = [\" \".join(pre_processing(string)) for string in input_text]"
   ]
  },
  {
   "cell_type": "code",
   "execution_count": 19,
   "id": "9e2d3334",
   "metadata": {},
   "outputs": [],
   "source": [
    "from sklearn.feature_extraction.text import TfidfVectorizer\n",
    "\n",
    "tf_idf = TfidfVectorizer()\n",
    "\n",
    "train_idf = tf_idf.fit_transform(train_df[\"documents\"])\n",
    "pred_idf = tf_idf.transform(input_text)"
   ]
  },
  {
   "cell_type": "code",
   "execution_count": 20,
   "id": "9b038ff4",
   "metadata": {},
   "outputs": [],
   "source": [
    "from sklearn.linear_model import LogisticRegression\n",
    "\n",
    "model = LogisticRegression(max_iter = 1000)\n",
    "model.fit(train_idf, train_y)\n",
    "\n",
    "predict = model.predict(pred_idf)\n",
    "predict = encoder.inverse_transform(predict)"
   ]
  },
  {
   "cell_type": "code",
   "execution_count": 21,
   "id": "7865f78c",
   "metadata": {},
   "outputs": [
    {
     "name": "stdout",
     "output_type": "stream",
     "text": [
      "What is not to like about this product.  :  negative\n",
      "Not bad.  :  negative\n",
      "Not an issue.  :  negative\n",
      "Not buggy.  :  neutral\n",
      "Not happy.  :  positive\n",
      "Not user-friendly.  :  negative\n",
      "Not good.  :  positive\n",
      "Is it any good?  :  positive\n",
      "I do not dislike horror movies.   :  negative\n",
      "Disliking horror movies is not uncommon.   :  negative\n",
      "Sometimes I really hate the show.   :  negative\n",
      "I love having to wait two months for the next series to come out!   :  positive\n",
      "The final episode was surprising with a terrible twist at the end.  :  neutral\n",
      "The film was easy to watch but I would not recommend it to my friends.   :  neutral\n",
      "I LOL’d at the end of the cake scene.  :  neutral\n"
     ]
    }
   ],
   "source": [
    "for index, text in enumerate(text.split(\"\\n\")):\n",
    "    print(text, \" : \", predict[index])"
   ]
  }
 ],
 "metadata": {
  "kernelspec": {
   "display_name": "Python 3 (ipykernel)",
   "language": "python",
   "name": "python3"
  },
  "language_info": {
   "codemirror_mode": {
    "name": "ipython",
    "version": 3
   },
   "file_extension": ".py",
   "mimetype": "text/x-python",
   "name": "python",
   "nbconvert_exporter": "python",
   "pygments_lexer": "ipython3",
   "version": "3.11.1"
  }
 },
 "nbformat": 4,
 "nbformat_minor": 5
}
