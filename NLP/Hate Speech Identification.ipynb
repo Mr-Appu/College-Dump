{
 "cells": [
  {
   "cell_type": "markdown",
   "id": "58c77123",
   "metadata": {},
   "source": [
    "### Pipeline"
   ]
  },
  {
   "cell_type": "markdown",
   "id": "ac7d1b00",
   "metadata": {},
   "source": [
    "* Load Dataset\n",
    "* Clean the Dataset\n",
    "* Text Pre-Processing\n",
    "* Text Vectorization\n",
    "* Build and Train Model\n",
    "* Plot Classification Report"
   ]
  },
  {
   "cell_type": "markdown",
   "id": "43031b64",
   "metadata": {},
   "source": [
    "### Import Library"
   ]
  },
  {
   "cell_type": "code",
   "execution_count": 1,
   "id": "834d5551",
   "metadata": {},
   "outputs": [],
   "source": [
    "# Import Library\n",
    "\n",
    "import re\n",
    "import nltk\n",
    "import numpy as np\n",
    "import pandas as pd\n",
    "\n",
    "import warnings\n",
    "warnings.filterwarnings(\"ignore\")"
   ]
  },
  {
   "cell_type": "markdown",
   "id": "463367c6",
   "metadata": {},
   "source": [
    "### Load Dataset"
   ]
  },
  {
   "cell_type": "code",
   "execution_count": 2,
   "id": "4f75bdf5",
   "metadata": {},
   "outputs": [
    {
     "name": "stdout",
     "output_type": "stream",
     "text": [
      "Train Shape : (24783, 2)\n"
     ]
    },
    {
     "data": {
      "text/html": [
       "<div>\n",
       "<style scoped>\n",
       "    .dataframe tbody tr th:only-of-type {\n",
       "        vertical-align: middle;\n",
       "    }\n",
       "\n",
       "    .dataframe tbody tr th {\n",
       "        vertical-align: top;\n",
       "    }\n",
       "\n",
       "    .dataframe thead th {\n",
       "        text-align: right;\n",
       "    }\n",
       "</style>\n",
       "<table border=\"1\" class=\"dataframe\">\n",
       "  <thead>\n",
       "    <tr style=\"text-align: right;\">\n",
       "      <th></th>\n",
       "      <th>tweet</th>\n",
       "      <th>class</th>\n",
       "    </tr>\n",
       "  </thead>\n",
       "  <tbody>\n",
       "    <tr>\n",
       "      <th>0</th>\n",
       "      <td>!!! RT @mayasolovely: As a woman you shouldn't...</td>\n",
       "      <td>2</td>\n",
       "    </tr>\n",
       "    <tr>\n",
       "      <th>1</th>\n",
       "      <td>!!!!! RT @mleew17: boy dats cold...tyga dwn ba...</td>\n",
       "      <td>1</td>\n",
       "    </tr>\n",
       "    <tr>\n",
       "      <th>2</th>\n",
       "      <td>!!!!!!! RT @UrKindOfBrand Dawg!!!! RT @80sbaby...</td>\n",
       "      <td>1</td>\n",
       "    </tr>\n",
       "    <tr>\n",
       "      <th>3</th>\n",
       "      <td>!!!!!!!!! RT @C_G_Anderson: @viva_based she lo...</td>\n",
       "      <td>1</td>\n",
       "    </tr>\n",
       "    <tr>\n",
       "      <th>4</th>\n",
       "      <td>!!!!!!!!!!!!! RT @ShenikaRoberts: The shit you...</td>\n",
       "      <td>1</td>\n",
       "    </tr>\n",
       "  </tbody>\n",
       "</table>\n",
       "</div>"
      ],
      "text/plain": [
       "                                               tweet  class\n",
       "0  !!! RT @mayasolovely: As a woman you shouldn't...      2\n",
       "1  !!!!! RT @mleew17: boy dats cold...tyga dwn ba...      1\n",
       "2  !!!!!!! RT @UrKindOfBrand Dawg!!!! RT @80sbaby...      1\n",
       "3  !!!!!!!!! RT @C_G_Anderson: @viva_based she lo...      1\n",
       "4  !!!!!!!!!!!!! RT @ShenikaRoberts: The shit you...      1"
      ]
     },
     "execution_count": 2,
     "metadata": {},
     "output_type": "execute_result"
    }
   ],
   "source": [
    "# Load Dataset\n",
    "\n",
    "def load_dataset(file_name):\n",
    "    \n",
    "    df = pd.read_csv(file_name)\n",
    "    \n",
    "    df = df[[\"tweet\", \"class\"]]\n",
    "    df.drop_duplicates(inplace = True)\n",
    "    df.dropna(inplace = True)\n",
    "    \n",
    "    return df\n",
    "\n",
    "df = load_dataset(\"Dataset/labeled_data.csv\")\n",
    "\n",
    "print(\"Train Shape :\", df.shape)\n",
    "\n",
    "df.head()"
   ]
  },
  {
   "cell_type": "markdown",
   "id": "91f5bab6",
   "metadata": {},
   "source": [
    "### Text - Preprocessing"
   ]
  },
  {
   "cell_type": "code",
   "execution_count": 3,
   "id": "6d504793",
   "metadata": {},
   "outputs": [
    {
     "data": {
      "text/plain": [
       "['love', 'nlp']"
      ]
     },
     "execution_count": 3,
     "metadata": {},
     "output_type": "execute_result"
    }
   ],
   "source": [
    "# Tweet Preprocessing\n",
    "\n",
    "def pre_processing(tweet: str):\n",
    "    \n",
    "    # Remove Leading Blank Spaces\n",
    "    tweet = tweet.strip()\n",
    "    \n",
    "    # Lower Case\n",
    "    tweet = tweet.lower()\n",
    "    \n",
    "    # Remove URLS \n",
    "    url_pattern = re.compile(r\"https?://\\S+|www\\.\\S+\")\n",
    "    tweet = re.sub(url_pattern, \"\", tweet)\n",
    "    \n",
    "    # Remove UserName\n",
    "    username_pattern = re.compile(r\"@\\w+\")\n",
    "    tweet = re.sub(username_pattern, \"\", tweet)\n",
    "    \n",
    "    # Remove Hashtags\n",
    "    hashtag_pattern = re.compile(r\"#\\w+\")\n",
    "    tweet = re.sub(hashtag_pattern, \"\", tweet)\n",
    "    \n",
    "    # Character normalization // todaaaaay -> today\n",
    "    tweet = re.sub(r\"([a-zA-Z])\\1{2,}\", r'\\1', tweet)\n",
    "    \n",
    "    # Remove Special Characters\n",
    "    tweet = re.sub(r'[^a-zA-Z\\s]', \"\", tweet)\n",
    "    \n",
    "    # Word Tokenizer\n",
    "    tweet = nltk.word_tokenize(tweet)\n",
    "    \n",
    "    # Remove Stop Words \n",
    "    stop_words = set([re.sub(r'[^a-zA-Z\\s]', \"\", word) for word in nltk.corpus.stopwords.words(\"english\")])\n",
    "    tweet = [word for word in tweet if word not in stop_words]\n",
    "    \n",
    "    # lemmatization\n",
    "    def get_pos(word):\n",
    "        tag = nltk.pos_tag([word])[0][1][0].upper()\n",
    "        tag_dict = {\"N\": \"n\", \"V\": \"v\", \"R\": \"r\", \"J\": \"a\"}\n",
    "        return tag_dict.get(tag, \"n\")\n",
    "    \n",
    "    lemma = nltk.stem.WordNetLemmatizer()\n",
    "    tweet = [lemma.lemmatize(word, pos=get_pos(word)) for word in tweet]\n",
    "    \n",
    "    return tweet\n",
    "\n",
    "df[\"pre-tweet\"] = df[\"tweet\"].apply(pre_processing)\n",
    "\n",
    "pre_processing(\"I loveeeee NLP, @rahul_appu, www.rahul_appu.com, #NLP \")"
   ]
  },
  {
   "cell_type": "markdown",
   "id": "6112887a",
   "metadata": {},
   "source": [
    "### Train Test Split"
   ]
  },
  {
   "cell_type": "code",
   "execution_count": 4,
   "id": "8a635f71",
   "metadata": {},
   "outputs": [],
   "source": [
    "from sklearn.model_selection import train_test_split\n",
    "\n",
    "x_train, x_test, y_train, y_test = train_test_split(df[\"pre-tweet\"].values, df[\"class\"].values, train_size=0.8)"
   ]
  },
  {
   "cell_type": "markdown",
   "id": "94c78260",
   "metadata": {},
   "source": [
    "### Vocab"
   ]
  },
  {
   "cell_type": "code",
   "execution_count": 5,
   "id": "d642498b",
   "metadata": {},
   "outputs": [
    {
     "name": "stdout",
     "output_type": "stream",
     "text": [
      "Vocab Size : 14569\n"
     ]
    }
   ],
   "source": [
    "vocab = set()\n",
    "\n",
    "for words in x_train:\n",
    "    for word in words:\n",
    "        vocab.add(word)\n",
    "        \n",
    "print(\"Vocab Size :\", len(vocab))"
   ]
  },
  {
   "cell_type": "markdown",
   "id": "e717298f",
   "metadata": {},
   "source": [
    "### Vectorization"
   ]
  },
  {
   "cell_type": "markdown",
   "id": "c84e2bcd",
   "metadata": {},
   "source": [
    "#### Word2Vec"
   ]
  },
  {
   "cell_type": "code",
   "execution_count": 6,
   "id": "d526f3b1",
   "metadata": {},
   "outputs": [
    {
     "data": {
      "text/plain": [
       "(52714421, 76588000)"
      ]
     },
     "execution_count": 6,
     "metadata": {},
     "output_type": "execute_result"
    }
   ],
   "source": [
    "from gensim.models import Word2Vec\n",
    "\n",
    "g_model = Word2Vec(vector_size=200, window=5, workers=5)\n",
    "g_model.build_vocab(x_train)\n",
    "g_model.train(x_train, total_examples=g_model.corpus_count, epochs=500)"
   ]
  },
  {
   "cell_type": "code",
   "execution_count": 7,
   "id": "04ce3366",
   "metadata": {},
   "outputs": [],
   "source": [
    "def in_vocab(word_l):\n",
    "    for word in word_l:\n",
    "        if word not in g_model.wv:\n",
    "            return False\n",
    "    else:\n",
    "        return True\n",
    "\n",
    "train_vec = [g_model.wv[x].sum(axis = 0) if len(x) and in_vocab(x) else np.zeros((200)) for x in x_train]\n",
    "test_vec  = [g_model.wv[x].sum(axis = 0) if len(x) and in_vocab(x) else np.zeros((200)) for x in x_test]"
   ]
  },
  {
   "cell_type": "code",
   "execution_count": 8,
   "id": "41e68476",
   "metadata": {},
   "outputs": [
    {
     "name": "stdout",
     "output_type": "stream",
     "text": [
      "Accuracy Score : 0.8053258018963082\n",
      "\n",
      "              precision    recall  f1-score   support\n",
      "\n",
      "           0       0.44      0.08      0.14       238\n",
      "           1       0.81      0.98      0.89      3880\n",
      "           2       0.74      0.20      0.31       839\n",
      "\n",
      "    accuracy                           0.81      4957\n",
      "   macro avg       0.66      0.42      0.45      4957\n",
      "weighted avg       0.78      0.81      0.76      4957\n",
      "\n"
     ]
    }
   ],
   "source": [
    "from sklearn.linear_model import LogisticRegression\n",
    "\n",
    "model = LogisticRegression(max_iter = 1000)\n",
    "model.fit(train_vec, y_train)\n",
    "\n",
    "from sklearn.metrics import classification_report, accuracy_score\n",
    "\n",
    "predict = model.predict(test_vec)\n",
    "print(\"Accuracy Score :\", accuracy_score(y_test, predict), end='\\n\\n')\n",
    "print(classification_report(y_true = y_test, y_pred = predict))"
   ]
  },
  {
   "cell_type": "markdown",
   "id": "a65ddd28",
   "metadata": {},
   "source": [
    "#### fastText"
   ]
  },
  {
   "cell_type": "code",
   "execution_count": 9,
   "id": "6cdb0d8b",
   "metadata": {},
   "outputs": [],
   "source": [
    "from sklearn.model_selection import train_test_split\n",
    "x_train, x_test, y_train, y_test = train_test_split(df[\"tweet\"].values, df[\"class\"].values, train_size=0.8)\n",
    "\n",
    "with open(\"fastText/text.txt\", \"w\") as f: \n",
    "    for text in x_train:\n",
    "        f.write(text + \"\\n\")"
   ]
  },
  {
   "cell_type": "code",
   "execution_count": 10,
   "id": "5cf91a29",
   "metadata": {},
   "outputs": [],
   "source": [
    "import fasttext\n",
    "\n",
    "f_model = fasttext.train_unsupervised(\"fastText/text.txt\", \"cbow\")"
   ]
  },
  {
   "cell_type": "code",
   "execution_count": 11,
   "id": "19c62a7b",
   "metadata": {},
   "outputs": [],
   "source": [
    "train_vec = [f_model[sent] for sent in x_train]\n",
    "test_vec  = [f_model[sent] for sent in x_test]"
   ]
  },
  {
   "cell_type": "code",
   "execution_count": 12,
   "id": "4cccb7c3",
   "metadata": {},
   "outputs": [
    {
     "name": "stdout",
     "output_type": "stream",
     "text": [
      "Accuracy Score : 0.7847488400242082\n",
      "\n",
      "              precision    recall  f1-score   support\n",
      "\n",
      "           0       0.00      0.00      0.00       297\n",
      "           1       0.78      1.00      0.88      3866\n",
      "           2       0.88      0.04      0.07       794\n",
      "\n",
      "    accuracy                           0.78      4957\n",
      "   macro avg       0.55      0.34      0.32      4957\n",
      "weighted avg       0.75      0.78      0.70      4957\n",
      "\n"
     ]
    }
   ],
   "source": [
    "from sklearn.linear_model import LogisticRegression\n",
    "\n",
    "model = LogisticRegression(max_iter = 1000)\n",
    "model.fit(train_vec, y_train)\n",
    "\n",
    "from sklearn.metrics import classification_report, accuracy_score\n",
    "\n",
    "predict = model.predict(test_vec)\n",
    "print(\"Accuracy Score :\", accuracy_score(y_test, predict), end='\\n\\n')\n",
    "print(classification_report(y_true = y_test, y_pred = predict))"
   ]
  }
 ],
 "metadata": {
  "kernelspec": {
   "display_name": "Python 3 (ipykernel)",
   "language": "python",
   "name": "python3"
  },
  "language_info": {
   "codemirror_mode": {
    "name": "ipython",
    "version": 3
   },
   "file_extension": ".py",
   "mimetype": "text/x-python",
   "name": "python",
   "nbconvert_exporter": "python",
   "pygments_lexer": "ipython3",
   "version": "3.11.1"
  }
 },
 "nbformat": 4,
 "nbformat_minor": 5
}
