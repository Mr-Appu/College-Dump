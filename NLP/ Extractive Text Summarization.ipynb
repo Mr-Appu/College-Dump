{
 "cells": [
  {
   "cell_type": "code",
   "execution_count": 1,
   "id": "4dc15761",
   "metadata": {},
   "outputs": [],
   "source": [
    "import numpy as np\n",
    "import pandas as pd\n",
    "import matplotlib.pyplot as plt"
   ]
  },
  {
   "cell_type": "markdown",
   "id": "38011620",
   "metadata": {},
   "source": [
    "### Corpus Creation"
   ]
  },
  {
   "cell_type": "code",
   "execution_count": 2,
   "id": "9c5ed11d",
   "metadata": {},
   "outputs": [
    {
     "name": "stdout",
     "output_type": "stream",
     "text": [
      "Number of Articles :  1303\n"
     ]
    }
   ],
   "source": [
    "df = pd.read_csv(\"Dataset/Articles.csv\")\n",
    "data = df[\"content\"].values\n",
    "\n",
    "print(\"Number of Articles : \", len(data))"
   ]
  },
  {
   "cell_type": "markdown",
   "id": "5b45f2d7",
   "metadata": {},
   "source": [
    "#### Pre-Processing"
   ]
  },
  {
   "cell_type": "code",
   "execution_count": 3,
   "id": "a527ab95",
   "metadata": {
    "scrolled": true
   },
   "outputs": [
    {
     "name": "stdout",
     "output_type": "stream",
     "text": [
      "Number of Sentences in Corpus :  31603\n"
     ]
    }
   ],
   "source": [
    "import re\n",
    "from nltk.tokenize import sent_tokenize\n",
    "\n",
    "def pre_processing(text):\n",
    "    \n",
    "    # text to sentence\n",
    "    tokenized = sent_tokenize(text)\n",
    "    \n",
    "    # Remove Punctuation\n",
    "    # Lower Case \n",
    "    # Strip White Spaces\n",
    "    pattern   = re.compile(r'[^a-zA-Z0-9\\s]')\n",
    "    tokenized = [pattern.sub('', sent).strip().lower() for sent in tokenized]\n",
    "    \n",
    "    return tokenized\n",
    "\n",
    "corpus = []\n",
    "for doc in data:\n",
    "    corpus.extend(pre_processing(doc))\n",
    "    \n",
    "print(\"Number of Sentences in Corpus : \", len(corpus))"
   ]
  },
  {
   "cell_type": "markdown",
   "id": "53b12a93",
   "metadata": {},
   "source": [
    "### Pre-Processing on Input Text"
   ]
  },
  {
   "cell_type": "code",
   "execution_count": 4,
   "id": "ec8beed9",
   "metadata": {},
   "outputs": [],
   "source": [
    "input_text = \"\"\"\n",
    "Millions go missing at China bank. \n",
    "\n",
    "Two senior officials at one of China's top commercial banks have reportedly disappeared after funds\n",
    "worth up to $120m (£64m) went missing. The pair both worked at Bank of China in the northern city\n",
    "of Harbin, the South China Morning Post reported.\n",
    "\n",
    "The latest scandal at Bank of China will do nothing to reassure foreign investors that China's\n",
    "big four banks are ready for international listings. Government policy sees the bank listings as vital\n",
    "economic reforms. Bank of China is one of two frontrunners in the race to list overseas. The other is\n",
    "China Construction Bank. Both are expected to list abroad during 2005. They shared a $45bn state\n",
    "bailout in 2003, to help clean up their balance sheets in preparation for a foreign stock market debut.\n",
    "\n",
    "However, a report in the China-published Economic Observer said on Monday that the two banks may\n",
    "have scrapped plans to list in New York because of the cost of meeting regulatory requirements\n",
    "imposed since the Enron scandal. Bank of China is the country's biggest foreign exchange dealer,\n",
    "while China Construction Bank is the largest deposit holder.\n",
    "\n",
    "China's banking sector is burdened with at least $190bn of bad debt according to official data,\n",
    "though most observers believe the true figure is far higher. Officially, one in five loans is not\n",
    "being repaid. Attempts to strengthen internal controls and tighten lending policies have uncovered\n",
    "a succession of scandals involving embezzlement by bank officials and loans-for-favours. The most\n",
    "high-profile case involved the ex-president of Bank of China, Wang Xuebing, jailed for 12 years in\n",
    "2003. Although he committed the offences whilst running Bank of China in New York, Mr. Wang was\n",
    "head of China Construction Bank when the scandal broke. Earlier this month, a China Construction\n",
    "Bank branch manager was jailed for life in a separate case.\n",
    "\n",
    "China's banks used to act as cash offices for state enterprises and did not require checks on credit\n",
    "worthiness. The introduction of market reforms has been accompanied by attempts to modernize the\n",
    "banking sector, but links between banks and local government remain strong. Last year, China's\n",
    "premier, Wen Jiabao, targeted bank lending practices in a series of speeches, and regulators ordered\n",
    "all big loans to be scrutinized, in an attempt to cool down irresponsible lending.\n",
    "\n",
    "China's leaders see reforming the top four banks as vital to distribute capital to profitable\n",
    "companies and protect the health of China's economic boom. But two problems persist. First,\n",
    "inefficient state enterprises continue to receive protection from bankruptcy because they employ\n",
    "large numbers of people. Second, many questionable loans come not from the big four, but from\n",
    "smaller banks.\n",
    "\n",
    "Another high-profile financial firm, China Life, is facing shareholder lawsuits and a probe by the\n",
    "US Securities and Exchange Commission following its 2004 New York listing over its failure to\n",
    "disclose accounting irregularities at its parent company.\n",
    "\"\"\"\n",
    "\n",
    "input_text = input_text.replace(\"\\n\", \" \")\n",
    "sentences = sent_tokenize(input_text)\n",
    "input_tok = pre_processing(input_text)"
   ]
  },
  {
   "cell_type": "markdown",
   "id": "91221208",
   "metadata": {},
   "source": [
    "### ROUGE Score"
   ]
  },
  {
   "cell_type": "code",
   "execution_count": 5,
   "id": "ea1b77e6",
   "metadata": {},
   "outputs": [],
   "source": [
    "from rouge_score import rouge_scorer\n",
    "\n",
    "expected = \"\"\"\n",
    "The other is China Construction Bank. The latest scandal at Bank of China will do nothing to reassure\n",
    "foreign investors that China's big four banks are ready for international listings. \n",
    "Bank of China is the country's biggest foreign exchange dealer, while China Construction Bank is the\n",
    "largest deposit holder. Bank of China is one of two frontrunners in the race to list overseas. \n",
    "Although he committed the offences whilst running Bank of China in New York, Mr. Wang was head of\n",
    "China Construction Bank when the scandal broke. Earlier this month, a China Construction Bank branch\n",
    "manager was jailed for life in a separate case. The pair both worked at Bank of China in the\n",
    "northern city of Harbin, the South China Morning Post reported. The most high-profile case involved\n",
    "the ex-president of Bank of China, Wang Xuebing, jailed for 12 years in 2003. \n",
    "Two senior officials at one of China's top commercial banks have reportedly disappeared after funds\n",
    "worth up to $120m (£64m) went missing. China’s banks used to act as cash offices for state\n",
    "enterprises and did not require checks on credit worthiness.\n",
    "\"\"\"\n",
    "\n",
    "expected = expected.replace(\"\\n\", \" \").strip()\n",
    "\n",
    "def rouge_metrics(summary):\n",
    "    \n",
    "    scorer = rouge_scorer.RougeScorer(['rouge1'], use_stemmer=True)\n",
    "    scores = scorer.score(summary, expected)\n",
    "    \n",
    "    print(\"Rouge Score : \", scores, end=\"\\n\\n\")"
   ]
  },
  {
   "cell_type": "markdown",
   "id": "774a7afc",
   "metadata": {},
   "source": [
    "### Summarize Function"
   ]
  },
  {
   "cell_type": "code",
   "execution_count": 6,
   "id": "f245b8a0",
   "metadata": {},
   "outputs": [],
   "source": [
    "from sklearn.metrics.pairwise import cosine_similarity\n",
    "import networkx as nx\n",
    "\n",
    "def summarize(input_vec):\n",
    "    # Cosine Similarity\n",
    "    similarity_matrix = cosine_similarity(input_vec, input_vec)\n",
    "\n",
    "    # Matrix to Graph\n",
    "    G = nx.from_numpy_array(similarity_matrix)\n",
    "\n",
    "    # PageRank Algorithm\n",
    "    pagerank_scores = nx.pagerank(G)\n",
    "\n",
    "    # Sort sentences based on PageRank Scores\n",
    "    sorted_sentences = sorted(pagerank_scores, key=pagerank_scores.get, reverse=True)\n",
    "\n",
    "    # Select top 10 \n",
    "    top_k = 10\n",
    "    summary = [sentences[i] for i in sorted_sentences[:top_k]]\n",
    "\n",
    "    rouge_metrics(\" \".join(summary))\n",
    "    print(\" \".join(summary))"
   ]
  },
  {
   "cell_type": "markdown",
   "id": "982996da",
   "metadata": {},
   "source": [
    "### Vectorization"
   ]
  },
  {
   "cell_type": "markdown",
   "id": "d6705133",
   "metadata": {},
   "source": [
    "#### Bag of Words"
   ]
  },
  {
   "cell_type": "code",
   "execution_count": 7,
   "id": "1b5c865e",
   "metadata": {},
   "outputs": [],
   "source": [
    "from sklearn.feature_extraction.text import CountVectorizer\n",
    "\n",
    "bag_of_words = CountVectorizer()\n",
    "\n",
    "corpus_bow = bag_of_words.fit_transform(corpus)\n",
    "input_bow  = bag_of_words.transform(input_tok)"
   ]
  },
  {
   "cell_type": "code",
   "execution_count": 8,
   "id": "8550d468",
   "metadata": {
    "scrolled": false
   },
   "outputs": [
    {
     "name": "stdout",
     "output_type": "stream",
     "text": [
      "Rouge Score :  {'rouge1': Score(precision=0.7905759162303665, recall=0.6894977168949772, fmeasure=0.7365853658536586)}\n",
      "\n",
      "Bank of China is one of two frontrunners in the race to list overseas. The pair both worked at Bank of China in the northern city of Harbin, the South China Morning Post reported. The most high-profile case involved the ex-president of Bank of China, Wang Xuebing, jailed for 12 years in 2003. Although he committed the offences whilst running Bank of China in New York, Mr. Wang was head of China Construction Bank when the scandal broke. Bank of China is the country's biggest foreign exchange dealer, while China Construction Bank is the largest deposit holder. However, a report in the China-published Economic Observer said on Monday that the two banks may have scrapped plans to list in New York because of the cost of meeting regulatory requirements imposed since the Enron scandal. The latest scandal at Bank of China will do nothing to reassure foreign investors that China's big four banks are ready for international listings. The other is China Construction Bank. China's leaders see reforming the top four banks as vital to distribute capital to profitable companies and protect the health of China's economic boom. The introduction of market reforms has been accompanied by attempts to modernize the banking sector, but links between banks and local government remain strong.\n"
     ]
    }
   ],
   "source": [
    "summarize(input_bow)"
   ]
  },
  {
   "cell_type": "markdown",
   "id": "985abba1",
   "metadata": {},
   "source": [
    "#### TF - IDF"
   ]
  },
  {
   "cell_type": "code",
   "execution_count": 9,
   "id": "3ca8acc6",
   "metadata": {},
   "outputs": [],
   "source": [
    "from sklearn.feature_extraction.text import TfidfVectorizer\n",
    "\n",
    "tf_idf = TfidfVectorizer()\n",
    "\n",
    "corpus_idf = tf_idf.fit_transform(corpus)\n",
    "input_idf = tf_idf.transform(input_tok)"
   ]
  },
  {
   "cell_type": "code",
   "execution_count": 10,
   "id": "b4c98183",
   "metadata": {},
   "outputs": [
    {
     "name": "stdout",
     "output_type": "stream",
     "text": [
      "Rouge Score :  {'rouge1': Score(precision=0.8481675392670157, recall=0.9, fmeasure=0.8733153638814016)}\n",
      "\n",
      "Bank of China is one of two frontrunners in the race to list overseas. The other is China Construction Bank. The latest scandal at Bank of China will do nothing to reassure foreign investors that China's big four banks are ready for international listings. Bank of China is the country's biggest foreign exchange dealer, while China Construction Bank is the largest deposit holder. Although he committed the offences whilst running Bank of China in New York, Mr. Wang was head of China Construction Bank when the scandal broke.  Millions go missing at China bank. The pair both worked at Bank of China in the northern city of Harbin, the South China Morning Post reported. The most high-profile case involved the ex-president of Bank of China, Wang Xuebing, jailed for 12 years in 2003. Earlier this month, a China Construction Bank branch manager was jailed for life in a separate case. China's leaders see reforming the top four banks as vital to distribute capital to profitable companies and protect the health of China's economic boom.\n"
     ]
    }
   ],
   "source": [
    "summarize(input_idf)"
   ]
  },
  {
   "cell_type": "markdown",
   "id": "103a2c7d",
   "metadata": {},
   "source": [
    "#### Continuous Bag of Words"
   ]
  },
  {
   "cell_type": "code",
   "execution_count": 11,
   "id": "4cd0af75",
   "metadata": {},
   "outputs": [],
   "source": [
    "from gensim.models import Word2Vec\n",
    "from nltk.tokenize import word_tokenize\n",
    "\n",
    "g_model = Word2Vec(sentences=[word_tokenize(sent) for sent in corpus], vector_size=200, window=5, workers=5, epochs=500)"
   ]
  },
  {
   "cell_type": "code",
   "execution_count": 12,
   "id": "6c2aa070",
   "metadata": {},
   "outputs": [],
   "source": [
    "def get_embeddings(sent_l):\n",
    "    vec = np.array([g_model.wv[word] if word in g_model.wv else np.zeros((200)) for word in sent_l])\n",
    "    vec = vec.sum(axis=0)\n",
    "    return vec\n",
    "\n",
    "input_cbow = np.array([get_embeddings(sent) for sent in [word_tokenize(sent) for sent in input_tok]])"
   ]
  },
  {
   "cell_type": "code",
   "execution_count": 13,
   "id": "b97cf14d",
   "metadata": {},
   "outputs": [
    {
     "name": "stdout",
     "output_type": "stream",
     "text": [
      "Rouge Score :  {'rouge1': Score(precision=0.7382198952879581, recall=0.6077586206896551, fmeasure=0.6666666666666666)}\n",
      "\n",
      "Bank of China is one of two frontrunners in the race to list overseas. The latest scandal at Bank of China will do nothing to reassure foreign investors that China's big four banks are ready for international listings. China's leaders see reforming the top four banks as vital to distribute capital to profitable companies and protect the health of China's economic boom. Bank of China is the country's biggest foreign exchange dealer, while China Construction Bank is the largest deposit holder. The other is China Construction Bank. However, a report in the China-published Economic Observer said on Monday that the two banks may have scrapped plans to list in New York because of the cost of meeting regulatory requirements imposed since the Enron scandal. The introduction of market reforms has been accompanied by attempts to modernize the banking sector, but links between banks and local government remain strong. The most high-profile case involved the ex-president of Bank of China, Wang Xuebing, jailed for 12 years in 2003. Although he committed the offences whilst running Bank of China in New York, Mr. Wang was head of China Construction Bank when the scandal broke. Last year, China's premier, Wen Jiabao, targeted bank lending practices in a series of speeches, and regulators ordered all big loans to be scrutinized, in an attempt to cool down irresponsible lending.\n"
     ]
    }
   ],
   "source": [
    "summarize(input_cbow)"
   ]
  },
  {
   "cell_type": "markdown",
   "id": "59233ca0",
   "metadata": {},
   "source": [
    "#### Skip gram"
   ]
  },
  {
   "cell_type": "code",
   "execution_count": 14,
   "id": "ba88d635",
   "metadata": {},
   "outputs": [],
   "source": [
    "from gensim.models import Word2Vec\n",
    "from nltk.tokenize import word_tokenize\n",
    "\n",
    "g_model = Word2Vec(sentences=[word_tokenize(sent) for sent in corpus], vector_size=200, window=5, workers=5, epochs=500, sg=1)"
   ]
  },
  {
   "cell_type": "code",
   "execution_count": 15,
   "id": "669339af",
   "metadata": {},
   "outputs": [],
   "source": [
    "def get_embeddings(sent_l):\n",
    "    vec = np.array([g_model.wv[word] if word in g_model.wv else np.zeros((200)) for word in sent_l])\n",
    "    vec = vec.sum(axis=0)\n",
    "    return vec\n",
    "\n",
    "input_sg = np.array([get_embeddings(sent) for sent in [word_tokenize(sent) for sent in input_tok]])"
   ]
  },
  {
   "cell_type": "code",
   "execution_count": 16,
   "id": "ac064044",
   "metadata": {},
   "outputs": [
    {
     "name": "stdout",
     "output_type": "stream",
     "text": [
      "Rouge Score :  {'rouge1': Score(precision=0.7853403141361257, recall=0.5555555555555556, fmeasure=0.6507592190889372)}\n",
      "\n",
      "The latest scandal at Bank of China will do nothing to reassure foreign investors that China's big four banks are ready for international listings. Although he committed the offences whilst running Bank of China in New York, Mr. Wang was head of China Construction Bank when the scandal broke. Last year, China's premier, Wen Jiabao, targeted bank lending practices in a series of speeches, and regulators ordered all big loans to be scrutinized, in an attempt to cool down irresponsible lending. Two senior officials at one of China's top commercial banks have reportedly disappeared after funds worth up to $120m (£64m) went missing. However, a report in the China-published Economic Observer said on Monday that the two banks may have scrapped plans to list in New York because of the cost of meeting regulatory requirements imposed since the Enron scandal. Bank of China is the country's biggest foreign exchange dealer, while China Construction Bank is the largest deposit holder. Another high-profile financial firm, China Life, is facing shareholder lawsuits and a probe by the US Securities and Exchange Commission following its 2004 New York listing over its failure to disclose accounting irregularities at its parent company. China's banking sector is burdened with at least $190bn of bad debt according to official data, though most observers believe the true figure is far higher. The introduction of market reforms has been accompanied by attempts to modernize the banking sector, but links between banks and local government remain strong. Earlier this month, a China Construction Bank branch manager was jailed for life in a separate case.\n"
     ]
    }
   ],
   "source": [
    "summarize(input_sg)"
   ]
  },
  {
   "cell_type": "markdown",
   "id": "b95b348b",
   "metadata": {},
   "source": [
    "#### Word2Vec - PreTrained Embeddings"
   ]
  },
  {
   "cell_type": "code",
   "execution_count": 17,
   "id": "9297e265",
   "metadata": {},
   "outputs": [],
   "source": [
    "import gensim.downloader as api\n",
    "\n",
    "model = api.load(\"glove-wiki-gigaword-200\")\n",
    "\n",
    "def get_embeddings(sent_l):\n",
    "    vec = np.array([model[word] if word in model else np.zeros((200)) for word in sent_l])\n",
    "    vec = vec.sum(axis=0)\n",
    "    return vec\n",
    "\n",
    "input_wv = np.array([get_embeddings(sent) for sent in [word_tokenize(sent) for sent in input_tok]])"
   ]
  },
  {
   "cell_type": "code",
   "execution_count": 18,
   "id": "1f5b764b",
   "metadata": {},
   "outputs": [
    {
     "name": "stdout",
     "output_type": "stream",
     "text": [
      "Rouge Score :  {'rouge1': Score(precision=0.6544502617801047, recall=0.45787545787545786, fmeasure=0.5387931034482758)}\n",
      "\n",
      "However, a report in the China-published Economic Observer said on Monday that the two banks may have scrapped plans to list in New York because of the cost of meeting regulatory requirements imposed since the Enron scandal. The latest scandal at Bank of China will do nothing to reassure foreign investors that China's big four banks are ready for international listings. The introduction of market reforms has been accompanied by attempts to modernize the banking sector, but links between banks and local government remain strong. Bank of China is one of two frontrunners in the race to list overseas. China's banking sector is burdened with at least $190bn of bad debt according to official data, though most observers believe the true figure is far higher. Last year, China's premier, Wen Jiabao, targeted bank lending practices in a series of speeches, and regulators ordered all big loans to be scrutinized, in an attempt to cool down irresponsible lending. Although he committed the offences whilst running Bank of China in New York, Mr. Wang was head of China Construction Bank when the scandal broke. Another high-profile financial firm, China Life, is facing shareholder lawsuits and a probe by the US Securities and Exchange Commission following its 2004 New York listing over its failure to disclose accounting irregularities at its parent company. They shared a $45bn state bailout in 2003, to help clean up their balance sheets in preparation for a foreign stock market debut. China's leaders see reforming the top four banks as vital to distribute capital to profitable companies and protect the health of China's economic boom.\n"
     ]
    }
   ],
   "source": [
    "summarize(input_wv)"
   ]
  },
  {
   "cell_type": "markdown",
   "id": "b3497627",
   "metadata": {},
   "source": [
    "#### GloVe"
   ]
  },
  {
   "cell_type": "code",
   "execution_count": 19,
   "id": "2b253d1e",
   "metadata": {},
   "outputs": [],
   "source": [
    "from gensim.scripts.glove2word2vec import glove2word2vec\n",
    "from gensim.models import KeyedVectors\n",
    "\n",
    "model = KeyedVectors.load_word2vec_format(\"GloVe/glove.6B.50d.word2vec\", binary=False)\n",
    "\n",
    "def get_embeddings(sent_l):\n",
    "    vec = np.array([model[word] if word in model else np.zeros((50)) for word in sent_l])\n",
    "    vec = vec.sum(axis=0)\n",
    "    return vec\n",
    "\n",
    "input_glove = np.array([get_embeddings(sent) for sent in [word_tokenize(sent) for sent in input_tok]])"
   ]
  },
  {
   "cell_type": "code",
   "execution_count": 20,
   "id": "fc554557",
   "metadata": {},
   "outputs": [
    {
     "name": "stdout",
     "output_type": "stream",
     "text": [
      "Rouge Score :  {'rouge1': Score(precision=0.6858638743455497, recall=0.4962121212121212, fmeasure=0.5758241758241759)}\n",
      "\n",
      "However, a report in the China-published Economic Observer said on Monday that the two banks may have scrapped plans to list in New York because of the cost of meeting regulatory requirements imposed since the Enron scandal. The introduction of market reforms has been accompanied by attempts to modernize the banking sector, but links between banks and local government remain strong. Last year, China's premier, Wen Jiabao, targeted bank lending practices in a series of speeches, and regulators ordered all big loans to be scrutinized, in an attempt to cool down irresponsible lending. They shared a $45bn state bailout in 2003, to help clean up their balance sheets in preparation for a foreign stock market debut. The latest scandal at Bank of China will do nothing to reassure foreign investors that China's big four banks are ready for international listings. Bank of China is one of two frontrunners in the race to list overseas. China's banking sector is burdened with at least $190bn of bad debt according to official data, though most observers believe the true figure is far higher. Another high-profile financial firm, China Life, is facing shareholder lawsuits and a probe by the US Securities and Exchange Commission following its 2004 New York listing over its failure to disclose accounting irregularities at its parent company. Although he committed the offences whilst running Bank of China in New York, Mr. Wang was head of China Construction Bank when the scandal broke. Earlier this month, a China Construction Bank branch manager was jailed for life in a separate case.\n"
     ]
    }
   ],
   "source": [
    "summarize(input_glove)"
   ]
  },
  {
   "cell_type": "markdown",
   "id": "af42bdbc",
   "metadata": {},
   "source": [
    "#### FastText"
   ]
  },
  {
   "cell_type": "code",
   "execution_count": 21,
   "id": "78d90960",
   "metadata": {},
   "outputs": [],
   "source": [
    "from gensim.models import FastText\n",
    "from nltk.tokenize import word_tokenize\n",
    "\n",
    "f_model = FastText(sentences=[word_tokenize(sent) for sent in corpus], vector_size=200, window=5, workers=5, epochs=500)"
   ]
  },
  {
   "cell_type": "code",
   "execution_count": 22,
   "id": "8728313f",
   "metadata": {},
   "outputs": [],
   "source": [
    "def get_embeddings(sent_l):\n",
    "    vec = np.array([f_model.wv[word] if word in f_model.wv else np.zeros((200)) for word in sent_l])\n",
    "    vec = vec.sum(axis=0)\n",
    "    return vec\n",
    "\n",
    "input_ft = np.array([get_embeddings(sent) for sent in [word_tokenize(sent) for sent in input_tok]])"
   ]
  },
  {
   "cell_type": "code",
   "execution_count": 23,
   "id": "ac5ccd60",
   "metadata": {},
   "outputs": [
    {
     "name": "stdout",
     "output_type": "stream",
     "text": [
      "Rouge Score :  {'rouge1': Score(precision=0.7120418848167539, recall=0.5551020408163265, fmeasure=0.6238532110091743)}\n",
      "\n",
      "Attempts to strengthen internal controls and tighten lending policies have uncovered a succession of scandals involving embezzlement by bank officials and loans-for-favours. China's leaders see reforming the top four banks as vital to distribute capital to profitable companies and protect the health of China's economic boom. The introduction of market reforms has been accompanied by attempts to modernize the banking sector, but links between banks and local government remain strong. However, a report in the China-published Economic Observer said on Monday that the two banks may have scrapped plans to list in New York because of the cost of meeting regulatory requirements imposed since the Enron scandal. Bank of China is one of two frontrunners in the race to list overseas. The latest scandal at Bank of China will do nothing to reassure foreign investors that China's big four banks are ready for international listings. Last year, China's premier, Wen Jiabao, targeted bank lending practices in a series of speeches, and regulators ordered all big loans to be scrutinized, in an attempt to cool down irresponsible lending. The most high-profile case involved the ex-president of Bank of China, Wang Xuebing, jailed for 12 years in 2003. The pair both worked at Bank of China in the northern city of Harbin, the South China Morning Post reported. Bank of China is the country's biggest foreign exchange dealer, while China Construction Bank is the largest deposit holder.\n"
     ]
    }
   ],
   "source": [
    "summarize(input_ft)"
   ]
  }
 ],
 "metadata": {
  "kernelspec": {
   "display_name": "Python 3 (ipykernel)",
   "language": "python",
   "name": "python3"
  },
  "language_info": {
   "codemirror_mode": {
    "name": "ipython",
    "version": 3
   },
   "file_extension": ".py",
   "mimetype": "text/x-python",
   "name": "python",
   "nbconvert_exporter": "python",
   "pygments_lexer": "ipython3",
   "version": "3.11.1"
  }
 },
 "nbformat": 4,
 "nbformat_minor": 5
}
