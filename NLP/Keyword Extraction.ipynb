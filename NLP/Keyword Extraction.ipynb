{
 "cells": [
  {
   "cell_type": "code",
   "execution_count": 1,
   "id": "32b756e3",
   "metadata": {},
   "outputs": [],
   "source": [
    "import os\n",
    "import numpy as np\n",
    "import pandas as pd\n",
    "import matplotlib.pyplot as plt"
   ]
  },
  {
   "cell_type": "markdown",
   "id": "f9ca4d81",
   "metadata": {},
   "source": [
    "### Load Dataset"
   ]
  },
  {
   "cell_type": "code",
   "execution_count": 2,
   "id": "3e8b55b9",
   "metadata": {},
   "outputs": [
    {
     "data": {
      "text/html": [
       "<div>\n",
       "<style scoped>\n",
       "    .dataframe tbody tr th:only-of-type {\n",
       "        vertical-align: middle;\n",
       "    }\n",
       "\n",
       "    .dataframe tbody tr th {\n",
       "        vertical-align: top;\n",
       "    }\n",
       "\n",
       "    .dataframe thead th {\n",
       "        text-align: right;\n",
       "    }\n",
       "</style>\n",
       "<table border=\"1\" class=\"dataframe\">\n",
       "  <thead>\n",
       "    <tr style=\"text-align: right;\">\n",
       "      <th></th>\n",
       "      <th>Text</th>\n",
       "      <th>Keys</th>\n",
       "    </tr>\n",
       "  </thead>\n",
       "  <tbody>\n",
       "    <tr>\n",
       "      <th>0</th>\n",
       "      <td>Complex Langevin (CL) dynamics  [1,2] provides...</td>\n",
       "      <td>CL, complexified configuration space, Complex ...</td>\n",
       "    </tr>\n",
       "    <tr>\n",
       "      <th>1</th>\n",
       "      <td>Nuclear theory devoted major efforts since 4 d...</td>\n",
       "      <td>C60, combining quantum features, field of clus...</td>\n",
       "    </tr>\n",
       "    <tr>\n",
       "      <th>2</th>\n",
       "      <td>The next important step might be the derivatio...</td>\n",
       "      <td>continuum space-time, Dirac equation, future r...</td>\n",
       "    </tr>\n",
       "    <tr>\n",
       "      <th>3</th>\n",
       "      <td>This work shows how our approach based on the ...</td>\n",
       "      <td>class virial expansions, field partition funct...</td>\n",
       "    </tr>\n",
       "    <tr>\n",
       "      <th>4</th>\n",
       "      <td>A fluctuating vacuum is a general feature of q...</td>\n",
       "      <td>a collection of fermionic fields describing co...</td>\n",
       "    </tr>\n",
       "  </tbody>\n",
       "</table>\n",
       "</div>"
      ],
      "text/plain": [
       "                                                Text  \\\n",
       "0  Complex Langevin (CL) dynamics  [1,2] provides...   \n",
       "1  Nuclear theory devoted major efforts since 4 d...   \n",
       "2  The next important step might be the derivatio...   \n",
       "3  This work shows how our approach based on the ...   \n",
       "4  A fluctuating vacuum is a general feature of q...   \n",
       "\n",
       "                                                Keys  \n",
       "0  CL, complexified configuration space, Complex ...  \n",
       "1  C60, combining quantum features, field of clus...  \n",
       "2  continuum space-time, Dirac equation, future r...  \n",
       "3  class virial expansions, field partition funct...  \n",
       "4  a collection of fermionic fields describing co...  "
      ]
     },
     "execution_count": 2,
     "metadata": {},
     "output_type": "execute_result"
    }
   ],
   "source": [
    "file_names = os.listdir(\"Dataset/SemEval2017/docsutf8/\")\n",
    "\n",
    "texts = []\n",
    "keys = []\n",
    "\n",
    "file_path = \"Dataset/SemEval2017/docsutf8/\"\n",
    "key_path = \"Dataset/SemEval2017/keys/\"\n",
    "\n",
    "for file_name in file_names:\n",
    "    key_name = file_name.split(\".\")[0] + \".key\"\n",
    "    \n",
    "    with open(file_path + file_name, encoding=\"utf8\") as f:\n",
    "        text = f.read()\n",
    "        texts.append(text)\n",
    "        \n",
    "    with open(key_path + key_name, encoding=\"utf8\") as f:\n",
    "        key = f.readlines()\n",
    "        key = [txt[:-1] for txt in key]\n",
    "        key = \", \".join(key)\n",
    "        keys.append(key)\n",
    "        \n",
    "        \n",
    "df = pd.DataFrame({\"Text\" : texts, \"Keys\" : keys})\n",
    "df.head()"
   ]
  },
  {
   "cell_type": "markdown",
   "id": "ccfaea67",
   "metadata": {},
   "source": [
    "### Rake [Rapid Automatic Keyword Extraction algorithm]"
   ]
  },
  {
   "cell_type": "code",
   "execution_count": 3,
   "id": "b41fe933",
   "metadata": {},
   "outputs": [],
   "source": [
    "from rake_nltk import Rake\n",
    "\n",
    "def rake_top_k(text, k=10):\n",
    "    \n",
    "    r = Rake()\n",
    "    r.extract_keywords_from_text(text)\n",
    "    \n",
    "    result = r.get_ranked_phrases()[:k]\n",
    "    return result"
   ]
  },
  {
   "cell_type": "markdown",
   "id": "d73f1ef0",
   "metadata": {},
   "source": [
    "#### Using Rake"
   ]
  },
  {
   "cell_type": "code",
   "execution_count": 4,
   "id": "280e10ed",
   "metadata": {},
   "outputs": [
    {
     "data": {
      "text/plain": [
       "['activation energies calculated using empirical pair potentials',\n",
       " 'activation energies calculated using dft',\n",
       " 'examined three different potentials',\n",
       " 'fuel matrix initially accommodated',\n",
       " 'jahn – teller distortion',\n",
       " 'point defects trap sites',\n",
       " 'facilitate net xe diffusion',\n",
       " '6 – 8 ].',\n",
       " 'defect trap sites',\n",
       " 'activation energies',\n",
       " '‘ hop ’',\n",
       " 'schottky trivacancy defects',\n",
       " 'rate determining step',\n",
       " 'govers et al',\n",
       " 'different stoichiometric regimes',\n",
       " '11 ]) coupled',\n",
       " '– xe interactions',\n",
       " 'u – xe',\n",
       " '15 – 7',\n",
       " 'vary strongly depending']"
      ]
     },
     "execution_count": 4,
     "metadata": {},
     "output_type": "execute_result"
    }
   ],
   "source": [
    "rake_top_k(df[\"Text\"][100], 20)"
   ]
  },
  {
   "cell_type": "markdown",
   "id": "8edfca7c",
   "metadata": {},
   "source": [
    "#### Ground Truth"
   ]
  },
  {
   "cell_type": "code",
   "execution_count": 5,
   "id": "9702eaec",
   "metadata": {},
   "outputs": [
    {
     "data": {
      "text/plain": [
       "'Activation, bubbles, charge, crystal, crystal stoichiometry, defect trap sites, DFT, diffusion, Diffusion, empirical pair potentials, fission, fuel matrix, gas atom, grain boundaries, ‘hop’ into, Jahn–Teller distortion, loop around, migration, noble gas atoms, O–Xe, point defects trap sites, potential, potentials, rearrangement, Schottky trivacancy defects, UO2, UO2+x, UO2−x, uranium, U–Xe, VU, VU defect, Xe, Xe diffusion'"
      ]
     },
     "execution_count": 5,
     "metadata": {},
     "output_type": "execute_result"
    }
   ],
   "source": [
    "df[\"Keys\"][100]"
   ]
  }
 ],
 "metadata": {
  "kernelspec": {
   "display_name": "Python 3 (ipykernel)",
   "language": "python",
   "name": "python3"
  },
  "language_info": {
   "codemirror_mode": {
    "name": "ipython",
    "version": 3
   },
   "file_extension": ".py",
   "mimetype": "text/x-python",
   "name": "python",
   "nbconvert_exporter": "python",
   "pygments_lexer": "ipython3",
   "version": "3.11.1"
  }
 },
 "nbformat": 4,
 "nbformat_minor": 5
}
