{
 "cells": [
  {
   "cell_type": "markdown",
   "id": "4d7cbe02",
   "metadata": {},
   "source": [
    "## Principal Component Analysis\n",
    "\n",
    "It is a statistical technique used to analyze and reduce the dimensionality of a dataset while retaining the most important information.\n",
    "\n",
    "### Approach \n",
    "- Calculate Covariance\n",
    "- Calculate Eigenvectors and Eigenvalues of Cov Matrix\n",
    "- Sort Eigenvectors according to their Eigenvalues in decreasing order\n",
    "- For K dimension choose first K EigenVectors\n",
    "- Transform the data points into k dimension (Dot Prodcut)"
   ]
  },
  {
   "cell_type": "code",
   "execution_count": 1,
   "id": "1c28676d",
   "metadata": {},
   "outputs": [],
   "source": [
    "import numpy as np\n",
    "import pandas as pd\n",
    "import matplotlib.pyplot as plt"
   ]
  },
  {
   "cell_type": "markdown",
   "id": "aa748f2e",
   "metadata": {},
   "source": [
    "### From Scratch"
   ]
  },
  {
   "cell_type": "code",
   "execution_count": 2,
   "id": "901e435b",
   "metadata": {},
   "outputs": [],
   "source": [
    "def Principal_Component_Analysis(x,dim=1):\n",
    "    \n",
    "    # Step 1 - Calculate Cov\n",
    "    x = x - np.mean(x,axis=0)\n",
    "    matrix = np.cov(x.T)\n",
    "    \n",
    "    # Step 2 - Calculate Eigenvectors and Eigenvalues of Cov Matrix\n",
    "    eig_val, eig_vec = np.linalg.eig(matrix)\n",
    "    \n",
    "    # Step 3 - Sort Eigenvectors according to their Eigenvalues in decreasing order\n",
    "    sorted_index = np.argsort(eig_val)[::-1]\n",
    "    eig_val = eig_val[sorted_index]\n",
    "    eig_vec = eig_vec[:,sorted_index]\n",
    "    \n",
    "    # Step 4 - Choose first K EigenVectors\n",
    "    k_matrix = eig_vec[:,0:dim]\n",
    "    \n",
    "    # Step 5 - Transform the data points into k dimension\n",
    "    ans = np.dot(x,k_matrix)\n",
    "    \n",
    "    return ans"
   ]
  },
  {
   "cell_type": "code",
   "execution_count": 3,
   "id": "4cc1f0b4",
   "metadata": {
    "scrolled": true
   },
   "outputs": [
    {
     "name": "stdout",
     "output_type": "stream",
     "text": [
      "Enter No of Samples : 4\n",
      "Enter 1 Samples : 4 11\n",
      "Enter 2 Samples : 8 4\n",
      "Enter 3 Samples : 13 5\n",
      "Enter 4 Samples : 7 14\n"
     ]
    }
   ],
   "source": [
    "n = int(input(\"Enter No of Samples : \"))\n",
    "arr = [input(\"Enter {} Samples : \".format(i+1)) for i in range(n)]\n",
    "arr = [list(map(int,arr[i].split())) for i in range(n)]\n",
    "x = np.array(arr)"
   ]
  },
  {
   "cell_type": "code",
   "execution_count": 4,
   "id": "afcb633b",
   "metadata": {},
   "outputs": [
    {
     "name": "stdout",
     "output_type": "stream",
     "text": [
      "Enter Dimension : 1\n",
      "[[-4.30518692]\n",
      " [ 3.73612869]\n",
      " [ 5.69282771]\n",
      " [-5.12376947]]\n"
     ]
    }
   ],
   "source": [
    "k = int(input(\"Enter Dimension : \"))\n",
    "print(Principal_Component_Analysis(x,k))"
   ]
  },
  {
   "cell_type": "markdown",
   "id": "175337ec",
   "metadata": {},
   "source": [
    "### Sklearn Implementation"
   ]
  },
  {
   "cell_type": "code",
   "execution_count": 5,
   "id": "50630cf4",
   "metadata": {},
   "outputs": [
    {
     "name": "stdout",
     "output_type": "stream",
     "text": [
      "[[-4.30518692]\n",
      " [ 3.73612869]\n",
      " [ 5.69282771]\n",
      " [-5.12376947]]\n"
     ]
    }
   ],
   "source": [
    "from sklearn.decomposition import PCA\n",
    "\n",
    "pca = PCA(n_components=k)\n",
    "print(pca.fit_transform(x))"
   ]
  },
  {
   "cell_type": "markdown",
   "id": "c39e314f",
   "metadata": {},
   "source": [
    "## Iris Dataset"
   ]
  },
  {
   "cell_type": "code",
   "execution_count": 6,
   "id": "2b856114",
   "metadata": {},
   "outputs": [],
   "source": [
    "from sklearn import datasets\n",
    "\n",
    "iris = datasets.load_iris()\n",
    "x = iris.data\n",
    "y = iris.target"
   ]
  },
  {
   "cell_type": "code",
   "execution_count": 7,
   "id": "7f95b6b7",
   "metadata": {},
   "outputs": [
    {
     "name": "stdout",
     "output_type": "stream",
     "text": [
      "[[-2.68412563 -0.31939725]\n",
      " [-2.71414169  0.17700123]\n",
      " [-2.88899057  0.14494943]\n",
      " [-2.74534286  0.31829898]\n",
      " [-2.72871654 -0.32675451]\n",
      " [-2.28085963 -0.74133045]\n",
      " [-2.82053775  0.08946138]\n",
      " [-2.62614497 -0.16338496]\n",
      " [-2.88638273  0.57831175]\n",
      " [-2.6727558   0.11377425]]\n"
     ]
    }
   ],
   "source": [
    "reduced = Principal_Component_Analysis(x,2)\n",
    "print(reduced[:10])"
   ]
  },
  {
   "cell_type": "code",
   "execution_count": 8,
   "id": "71bed093",
   "metadata": {},
   "outputs": [
    {
     "name": "stdout",
     "output_type": "stream",
     "text": [
      "[[-2.68412563  0.31939725]\n",
      " [-2.71414169 -0.17700123]\n",
      " [-2.88899057 -0.14494943]\n",
      " [-2.74534286 -0.31829898]\n",
      " [-2.72871654  0.32675451]\n",
      " [-2.28085963  0.74133045]\n",
      " [-2.82053775 -0.08946138]\n",
      " [-2.62614497  0.16338496]\n",
      " [-2.88638273 -0.57831175]\n",
      " [-2.6727558  -0.11377425]]\n"
     ]
    }
   ],
   "source": [
    "from sklearn.decomposition import PCA\n",
    "\n",
    "pca = PCA(n_components=2)\n",
    "print(pca.fit_transform(x)[:10])"
   ]
  },
  {
   "cell_type": "code",
   "execution_count": 9,
   "id": "f499dac6",
   "metadata": {},
   "outputs": [],
   "source": [
    "target = pd.DataFrame(y,columns = [\"Target\"])\n",
    "df = pd.DataFrame(reduced, columns = [\"PCA1\",\"PCA2\"])\n",
    "df = pd.concat([df,target],axis = 1)"
   ]
  },
  {
   "cell_type": "code",
   "execution_count": 10,
   "id": "da8c9b24",
   "metadata": {},
   "outputs": [
    {
     "data": {
      "image/png": "[encoded data removed]",
      "text/plain": [
       "<Figure size 640x480 with 1 Axes>"
      ]
     },
     "metadata": {},
     "output_type": "display_data"
    }
   ],
   "source": [
    "import seaborn as sns\n",
    "\n",
    "sns.scatterplot(df, x=\"PCA1\", y=\"PCA2\", hue=\"Target\")\n",
    "plt.show()"
   ]
  },
  {
   "cell_type": "markdown",
   "id": "1d4675ef",
   "metadata": {},
   "source": [
    "### Explained Variance Plot"
   ]
  },
  {
   "cell_type": "code",
   "execution_count": 11,
   "id": "fe4a5199",
   "metadata": {},
   "outputs": [
    {
     "data": {
      "image/png": "[encoded data removed]",
      "text/plain": [
       "<Figure size 640x480 with 1 Axes>"
      ]
     },
     "metadata": {},
     "output_type": "display_data"
    }
   ],
   "source": [
    "from sklearn.decomposition import PCA\n",
    "\n",
    "pca = PCA()\n",
    "pca.fit(x)\n",
    "\n",
    "value = pd.DataFrame(pca.explained_variance_ratio_,columns = [\"Ratio\"])\n",
    "sns.barplot(value, x=value.index, y=\"Ratio\", width=0.5)\n",
    "plt.show()"
   ]
  },
  {
   "cell_type": "code",
   "execution_count": 12,
   "id": "a978ae91",
   "metadata": {},
   "outputs": [
    {
     "name": "stdout",
     "output_type": "stream",
     "text": [
      "1 92.46187232017272 %\n",
      "2 97.76852063187948 %\n",
      "3 99.47878161267246 %\n",
      "4 100.0 %\n"
     ]
    }
   ],
   "source": [
    "for i,j in enumerate(np.cumsum(pca.explained_variance_ratio_)):\n",
    "    print(i+1,str(j*100)+\" %\")"
   ]
  }
 ],
 "metadata": {
  "kernelspec": {
   "display_name": "Python 3 (ipykernel)",
   "language": "python",
   "name": "python3"
  },
  "language_info": {
   "codemirror_mode": {
    "name": "ipython",
    "version": 3
   },
   "file_extension": ".py",
   "mimetype": "text/x-python",
   "name": "python",
   "nbconvert_exporter": "python",
   "pygments_lexer": "ipython3",
   "version": "3.11.1"
  }
 },
 "nbformat": 4,
 "nbformat_minor": 5
}
