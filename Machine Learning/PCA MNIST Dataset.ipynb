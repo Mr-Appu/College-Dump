{
 "cells": [
  {
   "cell_type": "markdown",
   "id": "4d7cbe02",
   "metadata": {},
   "source": [
    "## Principal Component Analysis\n",
    "\n",
    "It is a statistical technique used to analyze and reduce the dimensionality of a dataset while retaining the most important information.\n",
    "\n",
    "### Approach \n",
    "- Calculate Covariance\n",
    "- Calculate Eigenvectors and Eigenvalues of Cov Matrix\n",
    "- Sort Eigenvectors according to their Eigenvalues in decreasing order\n",
    "- For K dimension choose first K EigenVectors\n",
    "- Transform the data points into k dimension (Dot Prodcut)"
   ]
  },
  {
   "cell_type": "code",
   "execution_count": 1,
   "id": "1c28676d",
   "metadata": {},
   "outputs": [],
   "source": [
    "import numpy as np\n",
    "import pandas as pd\n",
    "import matplotlib.pyplot as plt\n",
    "import warnings\n",
    "warnings.filterwarnings(\"ignore\")"
   ]
  },
  {
   "cell_type": "markdown",
   "id": "aa748f2e",
   "metadata": {},
   "source": [
    "### From Scratch"
   ]
  },
  {
   "cell_type": "code",
   "execution_count": 2,
   "id": "901e435b",
   "metadata": {},
   "outputs": [],
   "source": [
    "def Principal_Component_Analysis(x,dim=1):\n",
    "    \n",
    "    # Step 1 - Calculate Cov\n",
    "    x = x - np.mean(x,axis=0)\n",
    "    matrix = np.cov(x.T)\n",
    "    \n",
    "    # Step 2 - Calculate Eigenvectors and Eigenvalues of Cov Matrix\n",
    "    eig_val, eig_vec = np.linalg.eig(matrix)\n",
    "    \n",
    "    # Step 3 - Sort Eigenvectors according to their Eigenvalues in decreasing order\n",
    "    sorted_index = np.argsort(eig_val)[::-1]\n",
    "    eig_val = eig_val[sorted_index]\n",
    "    eig_vec = eig_vec[:,sorted_index]\n",
    "    \n",
    "    # Step 4 - Choose first K EigenVectors\n",
    "    k_matrix = eig_vec[:,0:dim]\n",
    "    \n",
    "    # Step 5 - Transform the data points into k dimension\n",
    "    ans = np.dot(x,k_matrix)\n",
    "    \n",
    "    return eig_val,ans"
   ]
  },
  {
   "cell_type": "markdown",
   "id": "c39e314f",
   "metadata": {},
   "source": [
    "## Mnist Dataset"
   ]
  },
  {
   "cell_type": "code",
   "execution_count": 3,
   "id": "2b856114",
   "metadata": {},
   "outputs": [],
   "source": [
    "df = pd.read_csv(\"mnist_test.csv\")"
   ]
  },
  {
   "cell_type": "code",
   "execution_count": 4,
   "id": "5b0b2529",
   "metadata": {},
   "outputs": [
    {
     "name": "stdout",
     "output_type": "stream",
     "text": [
      "Shape :  (10000, 785)\n"
     ]
    },
    {
     "data": {
      "text/html": [
       "<div>\n",
       "<style scoped>\n",
       "    .dataframe tbody tr th:only-of-type {\n",
       "        vertical-align: middle;\n",
       "    }\n",
       "\n",
       "    .dataframe tbody tr th {\n",
       "        vertical-align: top;\n",
       "    }\n",
       "\n",
       "    .dataframe thead th {\n",
       "        text-align: right;\n",
       "    }\n",
       "</style>\n",
       "<table border=\"1\" class=\"dataframe\">\n",
       "  <thead>\n",
       "    <tr style=\"text-align: right;\">\n",
       "      <th></th>\n",
       "      <th>label</th>\n",
       "      <th>1x1</th>\n",
       "      <th>1x2</th>\n",
       "      <th>1x3</th>\n",
       "      <th>1x4</th>\n",
       "      <th>1x5</th>\n",
       "      <th>1x6</th>\n",
       "      <th>1x7</th>\n",
       "      <th>1x8</th>\n",
       "      <th>1x9</th>\n",
       "      <th>...</th>\n",
       "      <th>28x19</th>\n",
       "      <th>28x20</th>\n",
       "      <th>28x21</th>\n",
       "      <th>28x22</th>\n",
       "      <th>28x23</th>\n",
       "      <th>28x24</th>\n",
       "      <th>28x25</th>\n",
       "      <th>28x26</th>\n",
       "      <th>28x27</th>\n",
       "      <th>28x28</th>\n",
       "    </tr>\n",
       "  </thead>\n",
       "  <tbody>\n",
       "    <tr>\n",
       "      <th>0</th>\n",
       "      <td>7</td>\n",
       "      <td>0</td>\n",
       "      <td>0</td>\n",
       "      <td>0</td>\n",
       "      <td>0</td>\n",
       "      <td>0</td>\n",
       "      <td>0</td>\n",
       "      <td>0</td>\n",
       "      <td>0</td>\n",
       "      <td>0</td>\n",
       "      <td>...</td>\n",
       "      <td>0</td>\n",
       "      <td>0</td>\n",
       "      <td>0</td>\n",
       "      <td>0</td>\n",
       "      <td>0</td>\n",
       "      <td>0</td>\n",
       "      <td>0</td>\n",
       "      <td>0</td>\n",
       "      <td>0</td>\n",
       "      <td>0</td>\n",
       "    </tr>\n",
       "    <tr>\n",
       "      <th>1</th>\n",
       "      <td>2</td>\n",
       "      <td>0</td>\n",
       "      <td>0</td>\n",
       "      <td>0</td>\n",
       "      <td>0</td>\n",
       "      <td>0</td>\n",
       "      <td>0</td>\n",
       "      <td>0</td>\n",
       "      <td>0</td>\n",
       "      <td>0</td>\n",
       "      <td>...</td>\n",
       "      <td>0</td>\n",
       "      <td>0</td>\n",
       "      <td>0</td>\n",
       "      <td>0</td>\n",
       "      <td>0</td>\n",
       "      <td>0</td>\n",
       "      <td>0</td>\n",
       "      <td>0</td>\n",
       "      <td>0</td>\n",
       "      <td>0</td>\n",
       "    </tr>\n",
       "    <tr>\n",
       "      <th>2</th>\n",
       "      <td>1</td>\n",
       "      <td>0</td>\n",
       "      <td>0</td>\n",
       "      <td>0</td>\n",
       "      <td>0</td>\n",
       "      <td>0</td>\n",
       "      <td>0</td>\n",
       "      <td>0</td>\n",
       "      <td>0</td>\n",
       "      <td>0</td>\n",
       "      <td>...</td>\n",
       "      <td>0</td>\n",
       "      <td>0</td>\n",
       "      <td>0</td>\n",
       "      <td>0</td>\n",
       "      <td>0</td>\n",
       "      <td>0</td>\n",
       "      <td>0</td>\n",
       "      <td>0</td>\n",
       "      <td>0</td>\n",
       "      <td>0</td>\n",
       "    </tr>\n",
       "    <tr>\n",
       "      <th>3</th>\n",
       "      <td>0</td>\n",
       "      <td>0</td>\n",
       "      <td>0</td>\n",
       "      <td>0</td>\n",
       "      <td>0</td>\n",
       "      <td>0</td>\n",
       "      <td>0</td>\n",
       "      <td>0</td>\n",
       "      <td>0</td>\n",
       "      <td>0</td>\n",
       "      <td>...</td>\n",
       "      <td>0</td>\n",
       "      <td>0</td>\n",
       "      <td>0</td>\n",
       "      <td>0</td>\n",
       "      <td>0</td>\n",
       "      <td>0</td>\n",
       "      <td>0</td>\n",
       "      <td>0</td>\n",
       "      <td>0</td>\n",
       "      <td>0</td>\n",
       "    </tr>\n",
       "    <tr>\n",
       "      <th>4</th>\n",
       "      <td>4</td>\n",
       "      <td>0</td>\n",
       "      <td>0</td>\n",
       "      <td>0</td>\n",
       "      <td>0</td>\n",
       "      <td>0</td>\n",
       "      <td>0</td>\n",
       "      <td>0</td>\n",
       "      <td>0</td>\n",
       "      <td>0</td>\n",
       "      <td>...</td>\n",
       "      <td>0</td>\n",
       "      <td>0</td>\n",
       "      <td>0</td>\n",
       "      <td>0</td>\n",
       "      <td>0</td>\n",
       "      <td>0</td>\n",
       "      <td>0</td>\n",
       "      <td>0</td>\n",
       "      <td>0</td>\n",
       "      <td>0</td>\n",
       "    </tr>\n",
       "  </tbody>\n",
       "</table>\n",
       "<p>5 rows × 785 columns</p>\n",
       "</div>"
      ],
      "text/plain": [
       "   label  1x1  1x2  1x3  1x4  1x5  1x6  1x7  1x8  1x9  ...  28x19  28x20  \\\n",
       "0      7    0    0    0    0    0    0    0    0    0  ...      0      0   \n",
       "1      2    0    0    0    0    0    0    0    0    0  ...      0      0   \n",
       "2      1    0    0    0    0    0    0    0    0    0  ...      0      0   \n",
       "3      0    0    0    0    0    0    0    0    0    0  ...      0      0   \n",
       "4      4    0    0    0    0    0    0    0    0    0  ...      0      0   \n",
       "\n",
       "   28x21  28x22  28x23  28x24  28x25  28x26  28x27  28x28  \n",
       "0      0      0      0      0      0      0      0      0  \n",
       "1      0      0      0      0      0      0      0      0  \n",
       "2      0      0      0      0      0      0      0      0  \n",
       "3      0      0      0      0      0      0      0      0  \n",
       "4      0      0      0      0      0      0      0      0  \n",
       "\n",
       "[5 rows x 785 columns]"
      ]
     },
     "execution_count": 4,
     "metadata": {},
     "output_type": "execute_result"
    }
   ],
   "source": [
    "print(\"Shape : \", df.shape)\n",
    "df.head()"
   ]
  },
  {
   "cell_type": "code",
   "execution_count": 5,
   "id": "7fafff88",
   "metadata": {},
   "outputs": [],
   "source": [
    "x = df.iloc[:,1:]\n",
    "y = df.iloc[:,0]"
   ]
  },
  {
   "cell_type": "code",
   "execution_count": 6,
   "id": "7f95b6b7",
   "metadata": {},
   "outputs": [
    {
     "name": "stdout",
     "output_type": "stream",
     "text": [
      "[[-411.26099613  686.56161016  -51.11294617 -242.56873406 -483.54367894\n",
      "  -380.05921937 -425.77003862  585.96695672 -220.25402004  273.41054287]\n",
      " [  58.06593519 -983.17025995    8.88468962  397.28032645 -171.26071378\n",
      "   447.78692234 -127.7353866   198.26972344  210.89809656  142.08143135]\n",
      " [-935.10533853 -459.07466105  319.99450898  262.53050241 -469.90123433\n",
      "  -126.97062334   32.41550656 -153.7788158    84.45082363  153.35101594]\n",
      " [1255.66650618  106.99254128  121.96698162 -246.64975402 -318.41370753\n",
      "   405.65451549 -627.20873497  128.32482696   23.14989657  114.45599641]\n",
      " [ 132.88704929  744.54184514  -61.20153075  703.88328497 -129.23608624\n",
      "  -279.90664796  509.40766387  281.38958428 -226.34381675  -52.43257516]]\n"
     ]
    }
   ],
   "source": [
    "eig_val, reduced = Principal_Component_Analysis(x,10)\n",
    "eig_val = eig_val.astype('float64')\n",
    "reduced = reduced.astype('float64')\n",
    "print(reduced[:5])"
   ]
  },
  {
   "cell_type": "code",
   "execution_count": 7,
   "id": "30ba4b55",
   "metadata": {},
   "outputs": [
    {
     "name": "stdout",
     "output_type": "stream",
     "text": [
      "1 10.04766332920709 %\n",
      "2 17.592149944678674 %\n",
      "3 23.732666135224477 %\n",
      "4 29.158473527949898 %\n",
      "5 34.18972242872774 %\n",
      "6 38.436085793482455 %\n",
      "7 41.74748956181832 %\n",
      "8 44.697777910174494 %\n",
      "9 47.42763564595668 %\n",
      "10 49.70567704917954 %\n"
     ]
    }
   ],
   "source": [
    "for i,j in enumerate(np.cumsum(eig_val/np.sum(eig_val))):\n",
    "    print(i+1,j*100,\"%\")\n",
    "    if(i == 9):\n",
    "        break"
   ]
  },
  {
   "cell_type": "markdown",
   "id": "71d6ffbd",
   "metadata": {},
   "source": [
    "### Sklearn Implementation"
   ]
  },
  {
   "cell_type": "code",
   "execution_count": 8,
   "id": "71bed093",
   "metadata": {},
   "outputs": [
    {
     "name": "stdout",
     "output_type": "stream",
     "text": [
      "[[-411.26103429 -686.56148394  -51.11268231 -242.56392513 -483.54892226\n",
      "  -380.06964997  425.77590686 -585.84904816 -220.31646059  272.94098012]\n",
      " [  58.06593152  983.17032141    8.88472405  397.27286352 -171.25507457\n",
      "   447.79726359  127.55574224 -198.45612409  210.56527528  144.48491861]\n",
      " [-935.10534711  459.07479492  319.99481863  262.53038053 -469.90147935\n",
      "  -126.97395601  -32.37504524  153.74674529   84.35042851  153.22041663]\n",
      " [1255.66652166 -106.99210363  121.96769499 -246.65420327 -318.41181001\n",
      "   405.65164369  627.34387706 -128.52863013   22.83446957  114.41820633]\n",
      " [ 132.88709027 -744.54167498  -61.20141722  703.87925065 -129.23013904\n",
      "  -279.90094771 -509.45418198 -281.38419092 -226.42080224  -52.07925395]]\n"
     ]
    }
   ],
   "source": [
    "from sklearn.decomposition import PCA\n",
    "\n",
    "pca = PCA(n_components=10)\n",
    "print(pca.fit_transform(x)[:5])"
   ]
  },
  {
   "cell_type": "code",
   "execution_count": 9,
   "id": "a978ae91",
   "metadata": {},
   "outputs": [
    {
     "name": "stdout",
     "output_type": "stream",
     "text": [
      "1 10.047663329207083 %\n",
      "2 17.592149944677075 %\n",
      "3 23.73266613521787 %\n",
      "4 29.15847352751357 %\n",
      "5 34.189722427961975 %\n",
      "6 38.43608579085087 %\n",
      "7 41.747489127271834 %\n",
      "8 44.69777695890848 %\n",
      "9 47.42763410210406 %\n",
      "10 49.705652341147584 %\n"
     ]
    }
   ],
   "source": [
    "for i,j in enumerate(np.cumsum(pca.explained_variance_ratio_)):\n",
    "    print(i+1,j*100,\"%\")"
   ]
  },
  {
   "cell_type": "markdown",
   "id": "279a8aca",
   "metadata": {},
   "source": [
    "### Scree Plot"
   ]
  },
  {
   "cell_type": "code",
   "execution_count": 10,
   "id": "df35ba10",
   "metadata": {},
   "outputs": [
    {
     "data": {
      "image/png": "[encoded data removed]",
      "text/plain": [
       "<Figure size 640x480 with 1 Axes>"
      ]
     },
     "metadata": {},
     "output_type": "display_data"
    }
   ],
   "source": [
    "import seaborn as sns\n",
    "\n",
    "value = pd.DataFrame((np.cumsum(eig_val/np.sum(eig_val))*100)[:25],columns = [\"Ratio\"])\n",
    "sns.barplot(value, x=value.index, y=\"Ratio\")\n",
    "plt.show()"
   ]
  }
 ],
 "metadata": {
  "kernelspec": {
   "display_name": "Python 3 (ipykernel)",
   "language": "python",
   "name": "python3"
  },
  "language_info": {
   "codemirror_mode": {
    "name": "ipython",
    "version": 3
   },
   "file_extension": ".py",
   "mimetype": "text/x-python",
   "name": "python",
   "nbconvert_exporter": "python",
   "pygments_lexer": "ipython3",
   "version": "3.11.1"
  }
 },
 "nbformat": 4,
 "nbformat_minor": 5
}
